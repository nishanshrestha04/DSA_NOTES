{
  "nbformat": 4,
  "nbformat_minor": 0,
  "metadata": {
    "colab": {
      "provenance": [],
      "include_colab_link": true
    },
    "kernelspec": {
      "name": "python3",
      "display_name": "Python 3"
    },
    "language_info": {
      "name": "python"
    }
  },
  "cells": [
    {
      "cell_type": "markdown",
      "metadata": {
        "id": "view-in-github",
        "colab_type": "text"
      },
      "source": [
        "<a href=\"https://colab.research.google.com/github/nishanshrestha04/DSA_NOTES/blob/main/Trees.ipynb\" target=\"_parent\"><img src=\"https://colab.research.google.com/assets/colab-badge.svg\" alt=\"Open In Colab\"/></a>"
      ]
    },
    {
      "cell_type": "markdown",
      "source": [
        "#Name: Nishan Shrestha\n",
        "#Student ID: 24128429"
      ],
      "metadata": {
        "id": "2trIb72-WKFg"
      }
    },
    {
      "cell_type": "code",
      "execution_count": 1,
      "metadata": {
        "colab": {
          "base_uri": "https://localhost:8080/"
        },
        "id": "pCAanjd7WGn9",
        "outputId": "5010bf9c-f3bb-46a3-d62a-388febde2793"
      },
      "outputs": [
        {
          "output_type": "stream",
          "name": "stdout",
          "text": [
            "Inorder traversal \n",
            "4->2->5->1->3->\n",
            "Preorder traversal \n",
            "1->2->4->5->3->\n",
            "Postorder traversal \n",
            "4->5->2->3->1->"
          ]
        }
      ],
      "source": [
        "# Tree traversal in Python\n",
        "class Node:\n",
        "    def __init__(self, item):\n",
        "        self.left = None\n",
        "\n",
        "        self.right = None\n",
        "        self.val = item\n",
        "\n",
        "def inorder(root):\n",
        "    if root:\n",
        "        # Traverse left\n",
        "        inorder(root.left)\n",
        "        # Traverse root\n",
        "        print(str(root.val) + \"->\", end='')\n",
        "        # Traverse right\n",
        "        inorder(root.right)\n",
        "\n",
        "def postorder(root):\n",
        "\n",
        "    if root:\n",
        "        # Traverse left\n",
        "        postorder(root.left)\n",
        "        # Traverse right\n",
        "        postorder(root.right)\n",
        "        # Traverse root\n",
        "        print(str(root.val) + \"->\", end='')\n",
        "\n",
        "def preorder(root):\n",
        "\n",
        "    if root:\n",
        "        # Traverse root\n",
        "        print(str(root.val) + \"->\", end='')\n",
        "        # Traverse left\n",
        "        preorder(root.left)\n",
        "        # Traverse right\n",
        "        preorder(root.right)\n",
        "\n",
        "\n",
        "root = Node(1)\n",
        "root.left = Node(2)\n",
        "root.right = Node(3)\n",
        "root.left.left = Node(4)\n",
        "root.left.right = Node(5)\n",
        "\n",
        "print(\"Inorder traversal \")\n",
        "inorder(root)\n",
        "\n",
        "print(\"\\nPreorder traversal \")\n",
        "preorder(root)\n",
        "\n",
        "print(\"\\nPostorder traversal \")\n",
        "postorder(root)"
      ]
    },
    {
      "cell_type": "code",
      "source": [
        "# Binary Tree in Python\n",
        "\n",
        "class Node:\n",
        "    def __init__(self, key):\n",
        "        self.left = None\n",
        "        self.right = None\n",
        "        self.val = key\n",
        "\n",
        "    # Traverse preorder\n",
        "    def traversePreOrder(self):\n",
        "        print(self.val, end=' ')\n",
        "        if self.left:\n",
        "            self.left.traversePreOrder()\n",
        "        if self.right:\n",
        "            self.right.traversePreOrder()\n",
        "\n",
        "    # Traverse inorder\n",
        "    def traverseInOrder(self):\n",
        "        if self.left:\n",
        "            self.left.traverseInOrder()\n",
        "        print(self.val, end=' ')\n",
        "        if self.right:\n",
        "            self.right.traverseInOrder()\n",
        "\n",
        "    # Traverse postorder\n",
        "    def traversePostOrder(self):\n",
        "        if self.left:\n",
        "            self.left.traversePostOrder()\n",
        "        if self.right:\n",
        "            self.right.traversePostOrder()\n",
        "        print(self.val, end=' ')\n",
        "\n",
        "\n",
        "root = Node(1)\n",
        "\n",
        "root.left = Node(2)\n",
        "root.right = Node(3)\n",
        "\n",
        "root.left.left = Node(4)\n",
        "\n",
        "print(\"Pre order Traversal: \", end=\"\")\n",
        "root.traversePreOrder()\n",
        "print(\"\\nIn order Traversal: \", end=\"\")\n",
        "root.traverseInOrder()\n",
        "print(\"\\nPost order Traversal: \", end=\"\")\n",
        "root.traversePostOrder()"
      ],
      "metadata": {
        "colab": {
          "base_uri": "https://localhost:8080/"
        },
        "id": "LqvOWtMJ81pK",
        "outputId": "fa781e98-a914-4d0c-9dc7-238e223954ba"
      },
      "execution_count": 2,
      "outputs": [
        {
          "output_type": "stream",
          "name": "stdout",
          "text": [
            "Pre order Traversal: 1 2 4 3 \n",
            "In order Traversal: 4 2 1 3 \n",
            "Post order Traversal: 4 2 3 1 "
          ]
        }
      ]
    },
    {
      "cell_type": "code",
      "source": [
        "class Node:\n",
        "    def __init__(self, value):\n",
        "        self.value = value\n",
        "        self.left = None\n",
        "        self.right = None\n",
        "\n",
        "class BST:\n",
        "    def __init__(self):\n",
        "        self.root = None\n",
        "\n",
        "    def insert(self, value):\n",
        "        new_node = Node(value)\n",
        "\n",
        "        if self.root is None:\n",
        "            self.root = new_node\n",
        "            return\n",
        "\n",
        "        current_node = self.root\n",
        "\n",
        "        while True:\n",
        "            if value == current_node.value:\n",
        "                return\n",
        "\n",
        "            if value < current_node.value:\n",
        "                if current_node.left is None:\n",
        "                    current_node.left = new_node\n",
        "                    return\n",
        "                else:\n",
        "                    current_node = current_node.left\n",
        "            else:\n",
        "                if current_node.right is None:\n",
        "                    current_node.right = new_node\n",
        "                    return\n",
        "                else:\n",
        "                    current_node = current_node.right\n",
        "\n",
        "    def search(self, value):\n",
        "        if self.root is None:\n",
        "            return False\n",
        "\n",
        "        current_node = self.root\n",
        "\n",
        "        while current_node:\n",
        "            if value == current_node.value:\n",
        "                return True\n",
        "\n",
        "            if value < current_node.value:\n",
        "                current_node = current_node.left\n",
        "            else:\n",
        "                current_node = current_node.right\n",
        "\n",
        "        return False\n",
        "\n",
        "    def delete(self, value):\n",
        "        def _delete(node, value):\n",
        "            if node is None:\n",
        "                return None\n",
        "\n",
        "            if value == node.value:\n",
        "                if node.left is None and node.right is None:\n",
        "                    return None\n",
        "                elif node.left is None:\n",
        "                    return node.right\n",
        "                elif node.right is None:\n",
        "                    return node.left\n",
        "                else:\n",
        "                    successor = self.find_min(node.right)\n",
        "                    node.value = successor.value\n",
        "                    node.right = _delete(node.right, successor.value)\n",
        "            elif value < node.value:\n",
        "                node.left = _delete(node.left, value)\n",
        "            else:\n",
        "                node.right = _delete(node.right, value)\n",
        "\n",
        "            return node\n",
        "\n",
        "        self.root = _delete(self.root, value)\n",
        "\n",
        "    def inorder(self):\n",
        "        def _inorder(node):\n",
        "            if node is not None:\n",
        "                _inorder(node.left)\n",
        "                print(node.value)\n",
        "                _inorder(node.right)\n",
        "\n",
        "        _inorder(self.root)\n",
        "\n",
        "    def preorder(self):\n",
        "        def _preorder(node):\n",
        "            if node is not None:\n",
        "                print(node.value)\n",
        "                _preorder(node.left)\n",
        "                _preorder(node.right)\n",
        "\n",
        "        _preorder(self.root)\n",
        "\n",
        "    def postorder(self):\n",
        "        def _postorder(node):\n",
        "            if node is not None:\n",
        "                _postorder(node.left)\n",
        "                _postorder(node.right)\n",
        "                print(node.value)\n",
        "\n",
        "        _postorder(self.root)\n",
        "\n",
        "    def find_min(self, node):\n",
        "        current_node = node\n",
        "\n",
        "        while current_node.left is not None:\n",
        "            current_node = current_node.left\n",
        "\n",
        "        return current_node\n"
      ],
      "metadata": {
        "id": "4kRQsYYH-n_L"
      },
      "execution_count": 3,
      "outputs": []
    },
    {
      "cell_type": "code",
      "source": [
        "bst = BST()\n",
        "\n",
        "bst.insert(5)\n",
        "bst.insert(2)\n",
        "bst.insert(7)\n",
        "bst.insert(1)\n",
        "bst.insert(3)\n"
      ],
      "metadata": {
        "id": "TA19of8v-qT-"
      },
      "execution_count": 4,
      "outputs": []
    },
    {
      "cell_type": "markdown",
      "source": [
        "   ##    5\n",
        "  ##    / \\\n",
        "   ##  2    7\n",
        "  ##  / \\\n",
        "  ## 1   3"
      ],
      "metadata": {
        "id": "SENzQ5Gu__3A"
      }
    },
    {
      "cell_type": "code",
      "source": [],
      "metadata": {
        "id": "5iV0uZf3-6Vb"
      },
      "execution_count": 4,
      "outputs": []
    },
    {
      "cell_type": "code",
      "source": [
        "print(bst.search(3)) # True\n",
        "print(bst.search(6)) # False"
      ],
      "metadata": {
        "colab": {
          "base_uri": "https://localhost:8080/"
        },
        "id": "y1vQElue-yQy",
        "outputId": "ad772d5d-14c4-4cd0-be81-aa5a02bd5421"
      },
      "execution_count": 5,
      "outputs": [
        {
          "output_type": "stream",
          "name": "stdout",
          "text": [
            "True\n",
            "False\n"
          ]
        }
      ]
    },
    {
      "cell_type": "code",
      "source": [
        "bst.delete(2)\n",
        "bst.inorder()"
      ],
      "metadata": {
        "colab": {
          "base_uri": "https://localhost:8080/"
        },
        "id": "wLJWYVncAa8_",
        "outputId": "76a86089-c683-4e11-9267-5835870bb49d"
      },
      "execution_count": 6,
      "outputs": [
        {
          "output_type": "stream",
          "name": "stdout",
          "text": [
            "1\n",
            "3\n",
            "5\n",
            "7\n"
          ]
        }
      ]
    },
    {
      "cell_type": "code",
      "source": [
        "print(bst.find_min(bst.root).value) # 1"
      ],
      "metadata": {
        "colab": {
          "base_uri": "https://localhost:8080/"
        },
        "id": "j1eveLxMAjUd",
        "outputId": "a27ea3ef-2732-4904-9748-0c2d8009ad6b"
      },
      "execution_count": 7,
      "outputs": [
        {
          "output_type": "stream",
          "name": "stdout",
          "text": [
            "1\n"
          ]
        }
      ]
    },
    {
      "cell_type": "markdown",
      "source": [
        "Suppose that the sequence: `P R I O * R * * I * T * Y * * * Q U E * * * U * E` <br>\n",
        "(where a letter means insert and an asterisk means remove the maximum) is applied to an initially\n",
        "empty priority queue. Give the sequence of values returned by remove the maximum operations."
      ],
      "metadata": {
        "id": "B5TkY9Vb2CEb"
      }
    },
    {
      "cell_type": "code",
      "source": [
        "# create an empty priority queue\n",
        "pq = []\n",
        "\n",
        "# define the sequence of operations\n",
        "seq = ['P', 'R', 'I', 'O', '*', 'R', '*', '*', 'I', '*', 'T', '*', 'Y', '*', '*', '*', 'Q', 'U', 'E', '*', '*', '*', 'U', '*', 'E']\n",
        "\n",
        "# perform each operation and print the resulting queue\n",
        "for op in seq:\n",
        "    if op == '*':\n",
        "        # remove the maximum value from the priority queue\n",
        "        max_val = pq.pop()\n",
        "        print(max_val)\n",
        "    else:\n",
        "        # insert the letter into the priority queue in ascending order\n",
        "        i = 0\n",
        "        while i < len(pq) and ord(pq[i]) < ord(op):\n",
        "            i += 1\n",
        "        pq.insert(i, op)"
      ],
      "metadata": {
        "colab": {
          "base_uri": "https://localhost:8080/"
        },
        "id": "Vxf1QePizUiT",
        "outputId": "a823f71e-ec95-4f96-fe3a-dd522ac20b0d"
      },
      "execution_count": 8,
      "outputs": [
        {
          "output_type": "stream",
          "name": "stdout",
          "text": [
            "R\n",
            "R\n",
            "P\n",
            "O\n",
            "T\n",
            "Y\n",
            "I\n",
            "I\n",
            "U\n",
            "Q\n",
            "E\n",
            "U\n"
          ]
        }
      ]
    },
    {
      "cell_type": "code",
      "source": [
        "# create an empty priority queue\n",
        "pq = []\n",
        "\n",
        "# define the sequence of operations\n",
        "seq = ['P', 'R', 'I', 'O', '*', 'R', '*', '*', 'I', '*', 'T', '*', 'Y', '*', '*', '*', 'Q', 'U', 'E', '*', '*', '*', 'U', '*', 'E']\n",
        "\n",
        "# perform each operation and print the resulting queue\n",
        "for op in seq:\n",
        "    if op == '*':\n",
        "        # remove the maximum value from the priority queue\n",
        "        max_val = max(pq)\n",
        "        pq.remove(max_val)\n",
        "        print(max_val)\n",
        "    else:\n",
        "        # insert the letter into the priority queue in descending order\n",
        "        i = 0\n",
        "        while i < len(pq) and pq[i] > op:\n",
        "            i += 1\n",
        "        pq.insert(i, op)\n"
      ],
      "metadata": {
        "colab": {
          "base_uri": "https://localhost:8080/"
        },
        "id": "Y6-0cU9e2ewB",
        "outputId": "05bbd372-6861-4149-be76-e36ebe4c0996"
      },
      "execution_count": 9,
      "outputs": [
        {
          "output_type": "stream",
          "name": "stdout",
          "text": [
            "R\n",
            "R\n",
            "P\n",
            "O\n",
            "T\n",
            "Y\n",
            "I\n",
            "I\n",
            "U\n",
            "Q\n",
            "E\n",
            "U\n"
          ]
        }
      ]
    },
    {
      "cell_type": "markdown",
      "source": [
        "Create and insert node with key k in a Binary Search Tree, T."
      ],
      "metadata": {
        "id": "ZrGiNU0m3Bma"
      }
    },
    {
      "cell_type": "code",
      "source": [
        "class Node:\n",
        "    def __init__(self, key):\n",
        "        self.key = key\n",
        "        self.left = None\n",
        "        self.right = None\n",
        "\n",
        "def insert_node(T, k):\n",
        "    if T is None:\n",
        "        # if the tree is empty, create a new node with the key k\n",
        "        T = Node(k)\n",
        "    elif k < T.key:\n",
        "        # if k is less than the key of the current node, recursively insert k into the left subtree\n",
        "        T.left = insert_node(T.left, k)\n",
        "    else:\n",
        "        # if k is greater than or equal to the key of the current node, recursively insert k into the right subtree\n",
        "        T.right = insert_node(T.right, k)\n",
        "    return T\n"
      ],
      "metadata": {
        "id": "YQrB1K2F2iUW"
      },
      "execution_count": 10,
      "outputs": []
    },
    {
      "cell_type": "code",
      "source": [
        "# create an empty binary search tree\n",
        "T = None\n",
        "\n",
        "# insert some nodes with keys 5, 3, 7, 1, and 9\n",
        "T = insert_node(T, 5)\n",
        "T = insert_node(T, 3)\n",
        "T = insert_node(T, 7)\n",
        "T = insert_node(T, 1)\n",
        "T = insert_node(T, 9)\n"
      ],
      "metadata": {
        "id": "6KAgg3Ff3Rxe"
      },
      "execution_count": 11,
      "outputs": []
    },
    {
      "cell_type": "code",
      "source": [
        "class Node:\n",
        "    def __init__(self, key):\n",
        "        self.key = key\n",
        "        self.left = None\n",
        "        self.right = None\n",
        "\n",
        "def insert_node(T, k):\n",
        "    if T is None:\n",
        "        T = Node(k)\n",
        "    elif k < T.key:\n",
        "        T.left = insert_node(T.left, k)\n",
        "    else:\n",
        "        T.right = insert_node(T.right, k)\n",
        "    return T\n",
        "\n",
        "def create_bst_from_list(lst):\n",
        "    # create an empty binary search tree\n",
        "    T = None\n",
        "    # insert each element of the list into the tree\n",
        "    for k in lst:\n",
        "        T = insert_node(T, k)\n",
        "    return T\n"
      ],
      "metadata": {
        "id": "ia1DgQ5A31Ic"
      },
      "execution_count": 12,
      "outputs": []
    },
    {
      "cell_type": "code",
      "source": [
        "# create a list of integers\n",
        "lst = [5, 3, 7, 1, 9]\n",
        "# create a binary search tree from the list\n",
        "T = create_bst_from_list(lst)"
      ],
      "metadata": {
        "id": "R_OR_KZf33TY"
      },
      "execution_count": 13,
      "outputs": []
    },
    {
      "cell_type": "markdown",
      "source": [
        "##Code associated with tutorial question paper\n"
      ],
      "metadata": {
        "id": "w4VqpYLGc8bV"
      }
    },
    {
      "cell_type": "code",
      "source": [
        "#initialising the node of the tree\n",
        "class TreeNode:\n",
        "    def __init__(self, val=0, left=None, right=None):\n",
        "        self.val = val\n",
        "        self.left = left\n",
        "        self.right = right"
      ],
      "metadata": {
        "id": "D8Ijb2fTcq9Z"
      },
      "execution_count": 14,
      "outputs": []
    },
    {
      "cell_type": "markdown",
      "source": [
        "#Question no 16 <br>\n",
        "Given two binary trees, write pseudocode to check if they are structurally identical and the nodes have the same value. Your solution must be in O(n)."
      ],
      "metadata": {
        "id": "BaYwedaJb6NM"
      }
    },
    {
      "cell_type": "code",
      "source": [
        "def are_identical(root1, root2):\n",
        "\n",
        "    if root1 == None and root2 == None:\n",
        "        return True\n",
        "\n",
        "    elif root1 == None or root2 ==  None:\n",
        "        return False\n",
        "\n",
        "    elif root1.val == root2.val:\n",
        "\n",
        "        return are_identical(root1.left, root2.left) and are_identical(root1.right, root2.right)\n",
        "\n",
        "\n",
        "tree1 = TreeNode(1)\n",
        "tree1.left = TreeNode(2)\n",
        "tree1.right = TreeNode(3)\n",
        "tree1.left.left = TreeNode(4)\n",
        "tree1.left.right = TreeNode(5)\n",
        "\n",
        "tree2 = TreeNode(1)\n",
        "tree2.left = TreeNode(5)\n",
        "tree2.right = TreeNode(3)\n",
        "tree2.left.left = TreeNode(4)\n",
        "tree2.left.right = TreeNode(5)\n",
        "\n",
        "\n",
        "if are_identical(tree1, tree2):\n",
        "    print(\"Two trees are structurally identical.\")\n",
        "else:\n",
        "    print(\"Two trees are not structurally identical.\")"
      ],
      "metadata": {
        "colab": {
          "base_uri": "https://localhost:8080/"
        },
        "id": "vZDiD-RtPlxH",
        "outputId": "423abf1d-5128-4fa0-e78e-e33dcd598465"
      },
      "execution_count": 15,
      "outputs": [
        {
          "output_type": "stream",
          "name": "stdout",
          "text": [
            "Two trees are not structurally identical.\n"
          ]
        }
      ]
    },
    {
      "cell_type": "markdown",
      "source": [
        "##Question no.19\n",
        "Write pseudocodes of both DFS and BFS traversal (binary tree)."
      ],
      "metadata": {
        "id": "8YpYEOW-dlCY"
      }
    },
    {
      "cell_type": "markdown",
      "source": [
        "#DFS"
      ],
      "metadata": {
        "id": "2msLEX7vd2rB"
      }
    },
    {
      "cell_type": "code",
      "source": [
        "def dfs(root):\n",
        "    if root is None:\n",
        "        return root\n",
        "\n",
        "    print(root.val)\n",
        "\n",
        "    dfs(root.left)\n",
        "\n",
        "    dfs(root.right)\n",
        "\n",
        "\n",
        "root = TreeNode(1)\n",
        "root.left = TreeNode(2)\n",
        "root.right = TreeNode(3)\n",
        "root.left.left = TreeNode(4)\n",
        "root.left.right = TreeNode(5)\n",
        "\n",
        "print(\"Depth-First Search:\")\n",
        "dfs(root)"
      ],
      "metadata": {
        "colab": {
          "base_uri": "https://localhost:8080/"
        },
        "id": "5UsaSV1dlTTz",
        "outputId": "223b7612-d693-46c2-f471-589f07d7cfbf"
      },
      "execution_count": 16,
      "outputs": [
        {
          "output_type": "stream",
          "name": "stdout",
          "text": [
            "Depth-First Search:\n",
            "1\n",
            "2\n",
            "4\n",
            "5\n",
            "3\n"
          ]
        }
      ]
    },
    {
      "cell_type": "markdown",
      "source": [
        "#BFS"
      ],
      "metadata": {
        "id": "f6FCSzhCd59d"
      }
    },
    {
      "cell_type": "code",
      "source": [
        "def bfs_traversal(root):\n",
        "    if root is None:\n",
        "        return []\n",
        "\n",
        "    result = []\n",
        "    queue = [root]\n",
        "\n",
        "    while queue:\n",
        "        node = queue.pop(0)\n",
        "        result.append(node.val)\n",
        "\n",
        "        if node.left:\n",
        "            queue.append(node.left)\n",
        "        if node.right:\n",
        "            queue.append(node.right)\n",
        "\n",
        "    return result\n",
        "\n",
        "root = TreeNode(1)\n",
        "root.left = TreeNode(2)\n",
        "root.right = TreeNode(3)\n",
        "root.left.left = TreeNode(4)\n",
        "root.left.right = TreeNode(5)\n",
        "root.right.left = TreeNode(6)\n",
        "root.right.right = TreeNode(7)\n",
        "\n",
        "print(\"BFS:\")\n",
        "print(bfs_traversal(root))"
      ],
      "metadata": {
        "id": "CIWBlNaFMvaK",
        "colab": {
          "base_uri": "https://localhost:8080/"
        },
        "outputId": "761873cd-ba98-4444-9189-6652c5874e97"
      },
      "execution_count": 21,
      "outputs": [
        {
          "output_type": "stream",
          "name": "stdout",
          "text": [
            "BFS:\n",
            "[1, 2, 3, 4, 5, 6, 7]\n"
          ]
        }
      ]
    },
    {
      "cell_type": "markdown",
      "source": [
        "#Question no.27\n",
        "Write a recursive method that finds the maximum value contained in a Binary Tree. If the tree is empty, then the method returns −1."
      ],
      "metadata": {
        "id": "jvAjwTNzeDhL"
      }
    },
    {
      "cell_type": "code",
      "source": [
        "def max_in_binary_tree(root):\n",
        "    if root is None:\n",
        "        return -1\n",
        "    max_left = max_in_binary_tree(root.left)\n",
        "    max_right = max_in_binary_tree(root.right)\n",
        "    return max(root.val, max_left, max_right)\n",
        "\n",
        "\n",
        "root = TreeNode(10)\n",
        "root.left = TreeNode(5)\n",
        "root.right = TreeNode(15)\n",
        "root.left.left = TreeNode(3)\n",
        "root.left.right = TreeNode(7)\n",
        "root.right.left = TreeNode(13)\n",
        "root.right.right = TreeNode(20)\n",
        "\n",
        "# Find the maximum value in the binary tree\n",
        "max_value = max_in_binary_tree(root)\n",
        "print(\"Maximum value in the binary tree:\", max_value)"
      ],
      "metadata": {
        "colab": {
          "base_uri": "https://localhost:8080/"
        },
        "id": "JwW5ua2C8tRW",
        "outputId": "348e4d3a-95ce-40e2-a982-aff6c3399cd2"
      },
      "execution_count": 18,
      "outputs": [
        {
          "output_type": "stream",
          "name": "stdout",
          "text": [
            "Maximum value in the binary tree: 20\n"
          ]
        }
      ]
    },
    {
      "cell_type": "markdown",
      "source": [
        "#Question no.28\n",
        "Fetching the the data that falls between the boundry"
      ],
      "metadata": {
        "id": "gbUZT0ovcb_x"
      }
    },
    {
      "cell_type": "code",
      "source": [
        "def inbnd(lb, hb, node):\n",
        "\n",
        "    if node is None:\n",
        "        return\n",
        "\n",
        "    elif lb <= node.val <= hb:\n",
        "        print(node.val, end=' ')\n",
        "\n",
        "    elif lb <= node.val <= hb:\n",
        "        print(node.val, end=' ')\n",
        "\n",
        "    inbnd(lb, hb, node.left)\n",
        "    inbnd(lb, hb, node.right)\n",
        "\n",
        "root = TreeNode(10)\n",
        "root.left = TreeNode(5)\n",
        "root.right = TreeNode(15)\n",
        "root.left.left = TreeNode(3)\n",
        "root.left.right = TreeNode(7)\n",
        "root.right.left = TreeNode(13)\n",
        "root.right.right = TreeNode(20)\n",
        "\n",
        "inbnd(10, 15, root)"
      ],
      "metadata": {
        "colab": {
          "base_uri": "https://localhost:8080/"
        },
        "id": "1NLzXXEYJn0D",
        "outputId": "c575e544-00ab-46ce-91d6-ecad7cb2f7ea"
      },
      "execution_count": 19,
      "outputs": [
        {
          "output_type": "stream",
          "name": "stdout",
          "text": [
            "10 15 13 "
          ]
        }
      ]
    },
    {
      "cell_type": "markdown",
      "source": [
        "#Question no.29 <br> invoking the printLevel() on the binary tree"
      ],
      "metadata": {
        "id": "c-PM90tqNpKI"
      }
    },
    {
      "cell_type": "code",
      "source": [
        "class TreeNode:\n",
        "    def __init__(self, value):\n",
        "        self.val = value\n",
        "        self.left = None\n",
        "        self.right = None\n",
        "\n",
        "def printLevel(root, level):\n",
        "    if root is None:\n",
        "        return\n",
        "\n",
        "    if level == 1:\n",
        "        print(root.val)\n",
        "    elif level > 1:\n",
        "        printLevel(root.left, level - 1)\n",
        "        printLevel(root.right, level - 1)\n",
        "\n",
        "# Example usage:\n",
        "root = TreeNode(1)\n",
        "root.left = TreeNode(2)\n",
        "root.right = TreeNode(3)\n",
        "root.left.left = TreeNode(4)\n",
        "root.left.right = TreeNode(5)\n",
        "root.right.left = TreeNode(6)\n",
        "root.right.right = TreeNode(7)\n",
        "\n",
        "printLevel(root, 2)\n",
        "\n",
        "\n"
      ],
      "metadata": {
        "colab": {
          "base_uri": "https://localhost:8080/"
        },
        "id": "vJmKgGX2NofJ",
        "outputId": "193bb9a1-f97b-4e41-e3ae-6c50fb7ee470"
      },
      "execution_count": 20,
      "outputs": [
        {
          "output_type": "stream",
          "name": "stdout",
          "text": [
            "2\n",
            "3\n"
          ]
        }
      ]
    },
    {
      "cell_type": "code",
      "source": [],
      "metadata": {
        "id": "W1eMkVgxiyb8"
      },
      "execution_count": 20,
      "outputs": []
    }
  ]
}