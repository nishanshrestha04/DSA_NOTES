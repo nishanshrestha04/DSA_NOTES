{
  "nbformat": 4,
  "nbformat_minor": 0,
  "metadata": {
    "colab": {
      "provenance": [],
      "include_colab_link": true
    },
    "kernelspec": {
      "name": "python3",
      "display_name": "Python 3"
    }
  },
  "cells": [
    {
      "cell_type": "markdown",
      "metadata": {
        "id": "view-in-github",
        "colab_type": "text"
      },
      "source": [
        "<a href=\"https://colab.research.google.com/github/nishanshrestha04/DSA_NOTES/blob/main/Graph.ipynb\" target=\"_parent\"><img src=\"https://colab.research.google.com/assets/colab-badge.svg\" alt=\"Open In Colab\"/></a>"
      ]
    },
    {
      "cell_type": "markdown",
      "metadata": {
        "id": "v7GLUVYUW9Ls"
      },
      "source": [
        "# Data Structures and Algorithms W5 Lab\n",
        "Graphs have an incredible flexibility allowing for the application to a diverse range of challenging real world problems. This notebook will look at 3 specific Graph Problems."
      ]
    },
    {
      "cell_type": "markdown",
      "source": [
        "#Your name : Nishan Shrestha\n",
        "#ID 24128429"
      ],
      "metadata": {
        "id": "PS66x2iMC4RD"
      }
    },
    {
      "cell_type": "code",
      "source": [
        "#Implement Heap"
      ],
      "metadata": {
        "id": "uvvmb2S20RR8"
      },
      "execution_count": null,
      "outputs": []
    },
    {
      "cell_type": "markdown",
      "metadata": {
        "id": "buS0b4G4-ciQ"
      },
      "source": [
        "## Minimum Spanning Tree Problem\n",
        "Firstly, the MST is coded to identify the lowest overall graph weight that connects all edges."
      ]
    },
    {
      "cell_type": "code",
      "metadata": {
        "id": "3Pj_IAAw-bpW"
      },
      "source": [
        "from scipy.sparse import csr_matrix\n",
        "from scipy.sparse.csgraph import minimum_spanning_tree"
      ],
      "execution_count": null,
      "outputs": []
    },
    {
      "cell_type": "code",
      "metadata": {
        "id": "3oSgzYqV-1RR",
        "colab": {
          "base_uri": "https://localhost:8080/"
        },
        "outputId": "fd06392e-b947-4d5f-e712-a1922794a971"
      },
      "source": [
        "# %time\n",
        "X = csr_matrix([[0, 8, 0, 3],\n",
        "                [0, 0, 2, 5],\n",
        "                [0, 0, 0, 6],\n",
        "                [0, 0, 0, 0]])\n",
        "\n",
        "Tcsr = minimum_spanning_tree(X)\n",
        "Tcsr.toarray().astype(int)"
      ],
      "execution_count": null,
      "outputs": [
        {
          "output_type": "execute_result",
          "data": {
            "text/plain": [
              "array([[0, 0, 0, 3],\n",
              "       [0, 0, 2, 5],\n",
              "       [0, 0, 0, 0],\n",
              "       [0, 0, 0, 0]])"
            ]
          },
          "metadata": {},
          "execution_count": 10
        }
      ]
    },
    {
      "cell_type": "markdown",
      "metadata": {
        "id": "60oqzgLPCQhA"
      },
      "source": [
        "Based on the graph contained in the slides, solve find the MST and then draw the graph."
      ]
    },
    {
      "cell_type": "code",
      "metadata": {
        "id": "pgZezcwMCOwo",
        "colab": {
          "base_uri": "https://localhost:8080/"
        },
        "outputId": "65bbdc4b-4660-4d5f-a496-5618ab84e0b5"
      },
      "source": [
        "# Find the indices of non-zero elements in Tcsr\n",
        "indices = Tcsr.nonzero()\n",
        "print(indices)\n",
        "# Print the minimum spanning tree in a readable format\n",
        "for i, j in zip(indices[0], indices[1]):\n",
        "    print(f\"({i}, {j}) - weight: {Tcsr[i, j]}\")\n"
      ],
      "execution_count": null,
      "outputs": [
        {
          "output_type": "stream",
          "name": "stdout",
          "text": [
            "(array([0, 1, 1], dtype=int32), array([3, 2, 3], dtype=int32))\n",
            "(0, 3) - weight: 3.0\n",
            "(1, 2) - weight: 2.0\n",
            "(1, 3) - weight: 5.0\n"
          ]
        }
      ]
    },
    {
      "cell_type": "code",
      "source": [
        "#Another IDEA\n",
        "# Iterate over each edge and its weight in the minimum spanning tree\n",
        "for k in range(len(indices[0])):\n",
        "    i, j = indices[0][k], indices[1][k]\n",
        "    weight = Tcsr[i, j]\n",
        "    print(f\"({i}, {j}) - weight: {weight}\")"
      ],
      "metadata": {
        "colab": {
          "base_uri": "https://localhost:8080/"
        },
        "id": "pzJRpi_7OCGU",
        "outputId": "5daf3d1d-6947-4ff1-f079-83bb74bfa983"
      },
      "execution_count": null,
      "outputs": [
        {
          "output_type": "stream",
          "name": "stdout",
          "text": [
            "(0, 3) - weight: 3.0\n",
            "(1, 2) - weight: 2.0\n",
            "(1, 3) - weight: 5.0\n"
          ]
        }
      ]
    },
    {
      "cell_type": "markdown",
      "source": [
        "Based on the graph contained in the slides, solve find the MST and then draw the graph."
      ],
      "metadata": {
        "id": "o5Lloh4SQiro"
      }
    },
    {
      "cell_type": "code",
      "source": [
        "#Your code here"
      ],
      "metadata": {
        "id": "M__NELrJQkuU"
      },
      "execution_count": null,
      "outputs": []
    },
    {
      "cell_type": "markdown",
      "metadata": {
        "id": "3AyhHUs8CKm_"
      },
      "source": [
        "## Travelling Salesman Problem\n",
        "This problem focusses on identifying an optimal low-cost route that visits all available edges. The example below focusses on a set of randomly generated cities with [x,y] co-ordinates acting as a proxy for longitude and latitude measurements."
      ]
    },
    {
      "cell_type": "code",
      "metadata": {
        "id": "x7AYRUDVC47A",
        "colab": {
          "base_uri": "https://localhost:8080/",
          "height": 930
        },
        "outputId": "0cd764ac-4c20-43ef-911c-614092e9ad09"
      },
      "source": [
        "# Doing our imports\n",
        "import random, numpy, math, copy, matplotlib.pyplot as plt\n",
        "# Randomly create some cities (these could be specified in a list of 2-d lists like a 2-d array)\n",
        "#cities = [random.sample(range(100), 2) for x in range(15)];\n",
        "# Fix cities to be a set list:\n",
        "cities = [[56, 15], [62, 34], [46, 49], [89, 59], [3, 44], [13, 25], [13, 90], [33, 87], [87, 58], [99, 24], [19, 4], [11, 28], [4, 0], [70, 32], [80, 31]]\n",
        "tour = random.sample(range(15),15);\n",
        "print('Initial Guess:\\n')\n",
        "plt.plot([cities[tour[i % 15]][0] for i in range(16)], [cities[tour[i % 15]][1] for i in range(16)], 'xr-');\n",
        "plt.show()\n",
        "\n",
        "for temperature in numpy.logspace(0,5,num=100000)[::-1]:\n",
        "  [i,j] = sorted(random.sample(range(15),2));\n",
        "  newTour =  tour[:i] + tour[j:j+1] +  tour[i+1:j] + tour[i:i+1] + tour[j+1:];\n",
        "  if math.exp( ( sum([ math.sqrt(sum([(cities[tour[(k+1) % 15]][d] - cities[tour[k % 15]][d])**2 for d in [0,1] ])) for k in [j,j-1,i,i-1]]) - sum([math.sqrt(sum([(cities[newTour[(k+1) % 15]][d] - cities[newTour[k % 15]][d])**2 for d in [0,1] ])) for k in [j,j-1,i,i-1]])) / temperature) > random.random():\n",
        "    tour = copy.copy(newTour);\n",
        "print('\\nFinal Path:\\n')\n",
        "plt.plot([cities[tour[i % 15]][0] for i in range(16)], [cities[tour[i % 15]][1] for i in range(16)], 'xb-');\n",
        "plt.show()"
      ],
      "execution_count": null,
      "outputs": [
        {
          "output_type": "stream",
          "name": "stdout",
          "text": [
            "Initial Guess:\n",
            "\n"
          ]
        },
        {
          "output_type": "display_data",
          "data": {
            "text/plain": [
              "<Figure size 640x480 with 1 Axes>"
            ],
            "image/png": "[encoded data removed]"
          },
          "metadata": {}
        },
        {
          "output_type": "stream",
          "name": "stdout",
          "text": [
            "\n",
            "Final Path:\n",
            "\n"
          ]
        },
        {
          "output_type": "display_data",
          "data": {
            "text/plain": [
              "<Figure size 640x480 with 1 Axes>"
            ],
            "image/png": "[encoded data removed]"
          },
          "metadata": {}
        }
      ]
    },
    {
      "cell_type": "code",
      "source": [
        "# TSP Solution\n",
        "import random, numpy, math, copy, matplotlib.pyplot as plt\n",
        "cities = [[0, 92],\n",
        " [66, 39],\n",
        " [24, 71],\n",
        " [66, 21],\n",
        " [39, 38],\n",
        " [30, 37],\n",
        " [66, 48],\n",
        " [51, 77],\n",
        " [80, 22],\n",
        " [80, 98],\n",
        " [41, 97],\n",
        " [25, 13]]\n",
        "\n",
        "tour = random.sample(range(12),12);\n",
        "for temperature in numpy.logspace(0,5,num=100000)[::-1]:\n",
        "    [i,j] = sorted(random.sample(range(12),2));\n",
        "    newTour =  tour[:i] + tour[j:j+1] +  tour[i+1:j] + tour[i:i+1] + tour[j+1:];\n",
        "    oldDistances =  sum([ math.sqrt(sum([(cities[tour[(k+1) % 12]][d] - cities[tour[k % 12]][d])**2 for d in [0,1] ])) for k in [j,j-1,i,i-1]])\n",
        "    newDistances =  sum([ math.sqrt(sum([(cities[newTour[(k+1) % 12]][d] - cities[newTour[k % 12]][d])**2 for d in [0,1] ])) for k in [j,j-1,i,i-1]])\n",
        "    if math.exp( ( oldDistances - newDistances) / temperature) > random.random():\n",
        "        tour = copy.copy(newTour);\n",
        "plt.plot([cities[tour[i % 12]][0] for i in range(13)], [cities[tour[i % 12]][1] for i in range(13)], 'xb-');\n",
        "plt.show()"
      ],
      "metadata": {
        "colab": {
          "base_uri": "https://localhost:8080/",
          "height": 430
        },
        "id": "JvwHrsZMQ81Z",
        "outputId": "1d1de807-d92d-40bb-e391-ffa9e37fbc44"
      },
      "execution_count": null,
      "outputs": [
        {
          "output_type": "display_data",
          "data": {
            "text/plain": [
              "<Figure size 640x480 with 1 Axes>"
            ],
            "image/png": "[encoded data removed]"
          },
          "metadata": {}
        }
      ]
    },
    {
      "cell_type": "markdown",
      "metadata": {
        "id": "kFy46J_sEw5b"
      },
      "source": [
        "## Shortest Path Problem\n",
        "The final problem utilises Dijkstra's algorithm to find the shortest path, or set of vertices, connecting two edges."
      ]
    },
    {
      "cell_type": "code",
      "metadata": {
        "id": "ARVVuWnhFAFr",
        "colab": {
          "base_uri": "https://localhost:8080/"
        },
        "outputId": "83b55d81-7c58-495c-e73c-a4490e08c4ea"
      },
      "source": [
        "# Import native graph libraries for shortest path calculation\n",
        "from scipy.sparse import csr_matrix\n",
        "from scipy.sparse.csgraph import dijkstra\n",
        "import numpy\n",
        "\n",
        "# Create the undirected weighted graph\n",
        "labels = ['A','B','C','D']\n",
        "graph = [\n",
        "    [0, 1, 2, 0],\n",
        "    [1, 0, 0, 1],\n",
        "    [2, 0, 0, 3],\n",
        "    [0, 1, 3, 0]\n",
        "    ]\n",
        "\n",
        "# Convert to sparse matrix for the following calculations\n",
        "graph = numpy.matrix(graph)\n",
        "# Print edges and weights\n",
        "print(graph)\n",
        "\n",
        "# Use Dijkstra's algorithm to calculate the shortest distances between all nodes and node 0\n",
        "dist_matrix, predecessors = dijkstra(csgraph=graph, directed=False, indices=0, return_predecessors=True)\n",
        "# Print the list of shortest distances from node 0 to all other nodes\n",
        "#print(dist_matrix)\n",
        "# Print the list of predecessors from which the shortest path from node 0 to any node is identified\n",
        "#print(predecessors)\n",
        "\n",
        "predecessors[0] = len(predecessors)-1\n",
        "path = set(predecessors)\n",
        "\n",
        "for i in path:\n",
        "    print(labels[i])"
      ],
      "execution_count": null,
      "outputs": [
        {
          "output_type": "stream",
          "name": "stdout",
          "text": [
            "[[0 1 2 0]\n",
            " [1 0 0 1]\n",
            " [2 0 0 3]\n",
            " [0 1 3 0]]\n",
            "A\n",
            "B\n",
            "D\n"
          ]
        }
      ]
    },
    {
      "cell_type": "markdown",
      "metadata": {
        "id": "vfmXU5C1VRKk"
      },
      "source": [
        "Now try and check our calculations from the slides based on the larger A-H graph."
      ]
    },
    {
      "cell_type": "code",
      "metadata": {
        "id": "sXbzVgUNVWTU"
      },
      "source": [
        "# Put your code here"
      ],
      "execution_count": null,
      "outputs": []
    },
    {
      "cell_type": "code",
      "metadata": {
        "id": "Q-6ui3wBFuAb"
      },
      "source": [
        "# Import native graph libraries for shortest path calculation\n",
        "from scipy.sparse import csr_matrix\n",
        "from scipy.sparse.csgraph import dijkstra\n",
        "import numpy\n",
        "\n",
        "# Create the undirected weighted graph\n",
        "labels = ['A','B','C','D','E','F','G','H','I','J']\n",
        "graph = numpy.zeros([len(labels),len(labels)])\n",
        "graph[0,1]=4\n",
        "graph[0,2]=5\n",
        "graph[0,3]=8\n",
        "graph[1,3]=3\n",
        "graph[1,4]=12\n",
        "graph[2,3]=1\n",
        "graph[2,5]=11\n",
        "graph[3,4]=9\n",
        "graph[3,5]=4\n",
        "graph[3,6]=10\n",
        "graph[4,6]=6\n",
        "graph[4,7]=10\n",
        "graph[5,6]=5\n",
        "graph[5,8]=11\n",
        "graph[6,7]=3\n",
        "graph[6,9]=15\n",
        "graph[6,8]=5\n",
        "graph[7,9]=14\n",
        "graph[8,9]=8\n",
        "\n",
        "\n",
        "# Convert to sparse matrix for the following calculations\n",
        "graph = numpy.matrix(graph)\n",
        "graph = graph + graph.T\n",
        "# Print edges and weights\n",
        "print(graph)\n",
        "\n",
        "# Use Dijkstra's algorithm to calculate the shortest distances between all nodes and node 0\n",
        "dist_matrix, predecessors = dijkstra(csgraph=graph, directed=False, indices=0, return_predecessors=True)\n",
        "# Print the list of shortest distances from node 0 to all other nodes\n",
        "#print(dist_matrix)\n",
        "# Print the list of predecessors from which the shortest path from node 0 to any node is identified\n",
        "#print(predecessors)\n",
        "\n",
        "predecessors[0] = len(predecessors)-1\n",
        "path = set(predecessors)\n",
        "\n",
        "for i in path:\n",
        "    print(labels[i])"
      ],
      "execution_count": null,
      "outputs": []
    },
    {
      "cell_type": "markdown",
      "source": [
        "##**<b>Lab session-5 <b>**\n",
        "\n"
      ],
      "metadata": {
        "id": "hAAmtI9Rt7zH"
      }
    },
    {
      "cell_type": "markdown",
      "source": [
        "<i>Creating Node class<i>"
      ],
      "metadata": {
        "id": "TxwYDp5HuvLV"
      }
    },
    {
      "cell_type": "code",
      "source": [
        "class Node:\n",
        "    def __init__(self, value):\n",
        "        self.value = value\n",
        "        self.neighbours = []\n",
        "\n",
        "    def add_neighbour(self, node):\n",
        "        self.neighbours.append(node)"
      ],
      "metadata": {
        "id": "b-t768g8uUlW"
      },
      "execution_count": null,
      "outputs": []
    },
    {
      "cell_type": "markdown",
      "source": [
        "*Exercise 2 (i)*\n"
      ],
      "metadata": {
        "id": "pIV5qid0vE4M"
      }
    },
    {
      "cell_type": "code",
      "source": [
        "n1 = Node('A')\n",
        "n2 = Node('B')\n",
        "n3 = Node('C')\n",
        "n4 = Node('D')"
      ],
      "metadata": {
        "id": "8SFRcnN0vD_F"
      },
      "execution_count": null,
      "outputs": []
    },
    {
      "cell_type": "markdown",
      "source": [
        "*Exercise 2 (iv)*"
      ],
      "metadata": {
        "id": "W6FOBIFu0yGH"
      }
    },
    {
      "cell_type": "markdown",
      "source": [
        "Using the method to add neighbor to the graph using the adjacency list\n"
      ],
      "metadata": {
        "id": "w749DJEp1zFk"
      }
    },
    {
      "cell_type": "code",
      "source": [
        "adj_list = {\n",
        "    'A': ['B', 'C'],\n",
        "    'B': ['C'],\n",
        "    'C': ['D'],\n",
        "    'D': ['A', 'B']\n",
        "}\n",
        "\n",
        "nodes = {i: Node(i) for i in adj_list}\n",
        "\n",
        "for node, neighbours in adj_list.items():\n",
        "    for neighbour in neighbours:\n",
        "        nodes[node].add_neighbour(nodes[neighbour])"
      ],
      "metadata": {
        "id": "MkbruEdV31ht"
      },
      "execution_count": null,
      "outputs": []
    },
    {
      "cell_type": "markdown",
      "source": [
        "#**Lab submission Exercise**\n",
        "##*Exercise(3)*\n",
        "\n",
        "Considering the given code and graphs from pdf\n",
        "\n",
        "```\n",
        "class Node:\n",
        "    def __init__(self, value):\n",
        "        self.value = value\n",
        "        self.neighbours = []\n",
        "def add_neighbour(self, node):\n",
        "    self.neighbours.append(node)\n",
        "```\n",
        "\n"
      ],
      "metadata": {
        "id": "VjuryrXpg-EP"
      }
    },
    {
      "cell_type": "code",
      "source": [
        "class Node:\n",
        "    def __init__(self, value):\n",
        "        self.value = value\n",
        "        self.neighbours = []\n",
        "\n",
        "def add_neighbour(self, node):\n",
        "    self.neighbours.append(node)"
      ],
      "metadata": {
        "id": "2ITuDHT0jaER"
      },
      "execution_count": null,
      "outputs": []
    },
    {
      "cell_type": "markdown",
      "source": [
        "##*Exercise(3), 'i'*"
      ],
      "metadata": {
        "id": "SVPqHcdjkBNo"
      }
    },
    {
      "cell_type": "code",
      "source": [
        "#A adjacency list from the graph given\n",
        "adj_list = {\n",
        "    0 : [1,2],\n",
        "    1 : [0,2,3],\n",
        "    2 : [0,1,4],\n",
        "    3 : [1,4],\n",
        "    4 : [2,3]\n",
        "}\n",
        "\n",
        "# Dictionary to store node objects\n",
        "nodes = {i: Node(str(i)) for i in adj_list}\n",
        "\n",
        "#Function to add a vertex\n",
        "def addVertex(self, value):\n",
        "    if value not in nodes:\n",
        "        nodes[value] = Node(value)\n",
        "\n",
        "# Function to add an edge\n",
        "def addEdge(self, node1, node2):\n",
        "    if node1 not in nodes:\n",
        "        addVertex(node1)\n",
        "\n",
        "    elif node2 not in nodes:\n",
        "        addVertex(node2)\n",
        "    3\n",
        "    nodes[node1].add_neighbour(nodes[node2])\n",
        "    nodes[node2].add_neighbour(nodes[node1])"
      ],
      "metadata": {
        "id": "tf4x8BMykzkX"
      },
      "execution_count": null,
      "outputs": []
    },
    {
      "cell_type": "markdown",
      "source": [
        "#*Exercise(4), '1'*"
      ],
      "metadata": {
        "id": "RWjCdUgSiEW9"
      }
    },
    {
      "cell_type": "markdown",
      "source": [
        "##BFS TRAVERSAL IN GRAPH:"
      ],
      "metadata": {
        "id": "nck7cb6YiY7Q"
      }
    },
    {
      "cell_type": "code",
      "source": [
        "graph = {\n",
        "    1: [2,3,4],\n",
        "    2: [1,3,4],\n",
        "    3: [1,2,4,5],\n",
        "    4: [2,1,3,5],\n",
        "    5: [3,4]\n",
        "}"
      ],
      "metadata": {
        "id": "Dy-L2rCtqph4"
      },
      "execution_count": null,
      "outputs": []
    },
    {
      "cell_type": "code",
      "source": [
        "# Defining a class named Queue\n",
        "class Queue:\n",
        "    def __init__(self):\n",
        "        self.items = []\n",
        "\n",
        "    # method to add item\n",
        "    def enqueue(self, item):\n",
        "        self.items.append(item)\n",
        "    # method to remove item\n",
        "    def dequeue(self):\n",
        "        return self.items.pop(0)\n",
        "    # method to check the status of the queue\n",
        "    def is_empty(self):\n",
        "        return len(self.items) == 0\n",
        "\n",
        "# initialize BFS traversal\n",
        "def bfs(graph, start):\n",
        "    visited = set()\n",
        "    queue = Queue()\n",
        "    queue.enqueue(start)\n",
        "    traversal = []\n",
        "    # using bfs until the queue is empty\n",
        "    while not queue.is_empty():\n",
        "        node = queue.dequeue()\n",
        "        if node not in visited:\n",
        "            traversal.append(node)\n",
        "            visited.add(node)\n",
        "            for neighbor in graph[node]:\n",
        "                if neighbor not in visited:\n",
        "                    queue.enqueue(neighbor)\n",
        "    # print the path\n",
        "    for i in range(len(traversal)):\n",
        "        if i < len(traversal) - 1:\n",
        "            print(traversal[i], ' -> ' , end='')\n",
        "        else:\n",
        "            print(traversal[i], end='')\n",
        "bfs(graph, 1)"
      ],
      "metadata": {
        "colab": {
          "base_uri": "https://localhost:8080/"
        },
        "id": "WlVbtDPViXBm",
        "outputId": "6d65569d-df9f-481d-a83c-bf79d30fa280"
      },
      "execution_count": null,
      "outputs": [
        {
          "output_type": "stream",
          "name": "stdout",
          "text": [
            "1  -> 2  -> 3  -> 4  -> 5"
          ]
        }
      ]
    },
    {
      "cell_type": "markdown",
      "source": [
        "##DFS TRAVERSAL IN GRAPH:"
      ],
      "metadata": {
        "id": "nWr5xXRj5d2-"
      }
    },
    {
      "cell_type": "code",
      "source": [
        "# initialize DFS traversal\n",
        "def dfs(graph, start):\n",
        "    visited = set()\n",
        "    stack = [start]\n",
        "    traversal = []\n",
        "    # using dfs until the queue is empty\n",
        "    while stack:\n",
        "        node = stack.pop()\n",
        "        if node not in visited:\n",
        "            traversal.append(node)\n",
        "            visited.add(node)\n",
        "            # add the unvisited meighbors onto the stack\n",
        "            for neighbor in reversed(graph[node]):\n",
        "                if neighbor not in visited:\n",
        "                    stack.append(neighbor)\n",
        "\n",
        "    return traversal\n",
        "\n",
        "print(dfs(graph, 2))"
      ],
      "metadata": {
        "colab": {
          "base_uri": "https://localhost:8080/"
        },
        "id": "Pur-SidCtuFR",
        "outputId": "ed308e52-853c-4105-801b-ab22f29e1d61"
      },
      "execution_count": null,
      "outputs": [
        {
          "output_type": "stream",
          "name": "stdout",
          "text": [
            "[2, 0, 1, 3]\n"
          ]
        }
      ]
    }
  ]
}