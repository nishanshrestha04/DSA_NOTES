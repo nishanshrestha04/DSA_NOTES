{
  "nbformat": 4,
  "nbformat_minor": 0,
  "metadata": {
    "colab": {
      "provenance": [],
      "authorship_tag": "ABX9TyO9yQcba818flBfXGlenfj4",
      "include_colab_link": true
    },
    "kernelspec": {
      "name": "python3",
      "display_name": "Python 3"
    },
    "language_info": {
      "name": "python"
    }
  },
  "cells": [
    {
      "cell_type": "markdown",
      "metadata": {
        "id": "view-in-github",
        "colab_type": "text"
      },
      "source": [
        "<a href=\"https://colab.research.google.com/github/nishanshrestha04/DSA_NOTES/blob/main/DSA_Week1.ipynb\" target=\"_parent\"><img src=\"https://colab.research.google.com/assets/colab-badge.svg\" alt=\"Open In Colab\"/></a>"
      ]
    },
    {
      "cell_type": "markdown",
      "source": [
        "# Nishan Shrestha\n",
        "# Student ID: 24128429"
      ],
      "metadata": {
        "id": "keQa0G1OGAjy"
      }
    },
    {
      "cell_type": "markdown",
      "source": [
        "# Data Structures and Algorithms W1 Lab 1\n",
        "Data Respresentations - Binary and Decimal conversion"
      ],
      "metadata": {
        "id": "bo0MBhpVDaet"
      }
    },
    {
      "cell_type": "code",
      "source": [
        "# These functions operate on an 8-bit binary representation of an integer.\n",
        "# An integer is represented as a tuple of 8 bits, from highest-order to lowest-order.\n",
        "#\n",
        "# Suppose the binary tuples s,t represent the native python ints m,n respectively.\n",
        "#\n",
        "# - encode(n) returns t.\n",
        "# - decode(t) returns n.\n",
        "# - increment(t) returns a binary tuple representing n+1.\n",
        "# - decrement(t) returns a binary tuple representing n-1.\n",
        "# - add(s, t) returns a binary tuple representing m+n.\n",
        "# - subtract(s, t) returns a binary tuple representing m-n."
      ],
      "metadata": {
        "id": "Wl8r-3AbDsAb"
      },
      "execution_count": null,
      "outputs": []
    },
    {
      "cell_type": "markdown",
      "source": [
        "Recall that # means a comment in Python so won't do anything. You NEED to add these for almost EVERY line of code to say what you've done and why. The code here is commented well. Not all exercises will have fully commented code so you need to add the relevant comments and explanations in code and using these text boxes."
      ],
      "metadata": {
        "id": "MYeY85NnDtia"
      }
    },
    {
      "cell_type": "code",
      "source": [
        "# encoding function - recall that def *** creates a function called *** that can be called later on\n",
        "def encode(native_int):\n",
        "\t# force native_int into the range 0-255\n",
        "\tnative_int %= 256\n",
        "\n",
        "\t# initialise result to all zero bits\n",
        "\tresult = [0, 0, 0, 0, 0, 0, 0, 0]\n",
        "\n",
        "\t# initialise value of highest-order bit (128)\n",
        "\tvalue = 2 ** 7\n",
        "\n",
        "\t# for each bit, from left to right\n",
        "\tfor i in range(8):\n",
        "\t\t# check if this bit should be set\n",
        "\t\tif native_int >= value:\n",
        "\t\t\t# set this bit to 1 in the result\n",
        "\t\t\tresult[i] = 1\n",
        "\n",
        "\t\t\t# decrease native_int by the bit's value\n",
        "\t\t\tnative_int -= value\n",
        "\n",
        "\t\t# change to value of next-lower bit\n",
        "\t\tvalue //= 2\n",
        "\n",
        "\t# convert from list to tuple\n",
        "\treturn tuple(result)"
      ],
      "metadata": {
        "id": "LhEOgeLTDz44"
      },
      "execution_count": 1,
      "outputs": []
    },
    {
      "cell_type": "markdown",
      "source": [
        "Let's try doing some coding to use the function. Try using the encode() function to convert 42 to binary in the following cell:"
      ],
      "metadata": {
        "id": "a8HrNUjoD4ea"
      }
    },
    {
      "cell_type": "code",
      "source": [
        "# Do the conversion\n",
        "bin = encode(42)\n",
        "# Print it out\n",
        "print(bin)"
      ],
      "metadata": {
        "colab": {
          "base_uri": "https://localhost:8080/"
        },
        "id": "XaYXH1XDD8mq",
        "outputId": "08e300ee-0ed7-449a-a5ae-d0de798eccce"
      },
      "execution_count": 4,
      "outputs": [
        {
          "output_type": "stream",
          "name": "stdout",
          "text": [
            "(0, 0, 1, 0, 1, 0, 1, 0)\n"
          ]
        }
      ]
    },
    {
      "cell_type": "markdown",
      "source": [
        "So we've got our code now for this simple example. Try converting 57 yourself now:"
      ],
      "metadata": {
        "id": "BgSfHm7qD-z2"
      }
    },
    {
      "cell_type": "code",
      "source": [
        "# Put your code and comments here:\n",
        "bin = encode(57)\n",
        "print(bin)"
      ],
      "metadata": {
        "id": "BcRcfARiEByC",
        "colab": {
          "base_uri": "https://localhost:8080/"
        },
        "outputId": "b84d913d-1f30-4242-9a38-5939f4339789"
      },
      "execution_count": 6,
      "outputs": [
        {
          "output_type": "stream",
          "name": "stdout",
          "text": [
            "(0, 0, 1, 1, 1, 0, 0, 1)\n"
          ]
        }
      ]
    },
    {
      "cell_type": "code",
      "source": [
        "# function to decode a binary number back to a decimal\n",
        "def decode(binary_tuple):\n",
        "\t# intialise result to 0\n",
        "\tresult = 0\n",
        "\n",
        "\t# initialise value of highest-order bit (128)\n",
        "\tvalue = 2 ** 7\n",
        "\n",
        "\t# for each bit, from left to right\n",
        "\tfor bit in binary_tuple:\n",
        "\t\t# if this bit should be set, add its value onto the result\n",
        "\t\tif bit == 1:\n",
        "\t\t\tresult += value\n",
        "\n",
        "\t\t# change to value of next-lower bit\n",
        "\t\tvalue //= 2\n",
        "\n",
        "\treturn result\n"
      ],
      "metadata": {
        "id": "3Q7tbSHsEGqs"
      },
      "execution_count": 9,
      "outputs": []
    },
    {
      "cell_type": "markdown",
      "source": [
        "Let's check if our encoding of 42 was correct:"
      ],
      "metadata": {
        "id": "LPGH0Z00EaAP"
      }
    },
    {
      "cell_type": "code",
      "source": [
        "dec = decode(tuple([0,0,1,0,1,0,1,0]))\n",
        "print(dec)"
      ],
      "metadata": {
        "colab": {
          "base_uri": "https://localhost:8080/"
        },
        "id": "POnnSPjuEav9",
        "outputId": "06b74c76-e421-435c-828c-9354429fd592"
      },
      "execution_count": 10,
      "outputs": [
        {
          "output_type": "stream",
          "name": "stdout",
          "text": [
            "42\n"
          ]
        }
      ]
    },
    {
      "cell_type": "markdown",
      "source": [
        "So this means our encoding of 42 matches the decoded version. Now check if your encoding of 57 was correct:"
      ],
      "metadata": {
        "id": "57-utkstEdVY"
      }
    },
    {
      "cell_type": "code",
      "source": [
        "# encode 57 again into a variable and then decode, print it and see if it's working correctly.\n",
        "dec = decode(tuple([0, 0, 1, 1, 1, 0, 0, 1]))\n",
        "print(dec)"
      ],
      "metadata": {
        "id": "_MhGTejBEf8R",
        "colab": {
          "base_uri": "https://localhost:8080/"
        },
        "outputId": "a4a251e7-7532-4ff8-b3ad-10b876047925"
      },
      "execution_count": 11,
      "outputs": [
        {
          "output_type": "stream",
          "name": "stdout",
          "text": [
            "57\n"
          ]
        }
      ]
    },
    {
      "cell_type": "markdown",
      "source": [
        "# Incrementing and decrementing binary numbers"
      ],
      "metadata": {
        "id": "OZ-QVmsqEjUr"
      }
    },
    {
      "cell_type": "code",
      "source": [
        "# function to increment a binary number by 1\n",
        "def increment(a):\n",
        "\t# convert from tuple to list\n",
        "\tresult = list(a)\n",
        "\n",
        "\t# for each bit, from right to left\n",
        "\tfor i in reversed(range(8)):\n",
        "\t\t# if this bit is 0, change to 1 and stop\n",
        "\t\tif result[i] == 0:\n",
        "\t\t\tresult[i] = 1\n",
        "\t\t\tbreak\n",
        "\t\t# if this bit is 1, change to 0 and move left\n",
        "\t\telse:\n",
        "\t\t\tresult[i] = 0\n",
        "\n",
        "\t# convert from list to tuple\n",
        "\treturn tuple(result)"
      ],
      "metadata": {
        "id": "XtlWMY19EmWS"
      },
      "execution_count": 12,
      "outputs": []
    },
    {
      "cell_type": "code",
      "source": [
        "print('Increment of 12:')\n",
        "val = encode(12)\n",
        "print(increment(val))\n",
        "print('\\nDecoding of incremented value:') #\\n adds a linebreak\n",
        "print(decode(increment(val)))"
      ],
      "metadata": {
        "colab": {
          "base_uri": "https://localhost:8080/"
        },
        "id": "U4esr-AxEpOH",
        "outputId": "ebc182f6-5639-47a5-b98e-5e7d17fe5549"
      },
      "execution_count": 13,
      "outputs": [
        {
          "output_type": "stream",
          "name": "stdout",
          "text": [
            "Increment of 12:\n",
            "(0, 0, 0, 0, 1, 1, 0, 1)\n",
            "\n",
            "Decoding of incremented value:\n",
            "13\n"
          ]
        }
      ]
    },
    {
      "cell_type": "markdown",
      "source": [
        "Try incrementing the binary conversion of 57 and check it has worked by decoding it."
      ],
      "metadata": {
        "id": "kiROgMTuEu-U"
      }
    },
    {
      "cell_type": "code",
      "source": [
        "# Put your code here:\n",
        "print('Increment of 57:')\n",
        "val = encode(57)\n",
        "print(increment(val))\n",
        "print('\\nDecoding of incremented value:') #\\n adds a linebreak\n",
        "print(decode(increment(val)))"
      ],
      "metadata": {
        "id": "ndYQoik5Ewgs",
        "colab": {
          "base_uri": "https://localhost:8080/"
        },
        "outputId": "5fda8470-1e2e-4f0a-bea5-6bfaae23dddb"
      },
      "execution_count": 14,
      "outputs": [
        {
          "output_type": "stream",
          "name": "stdout",
          "text": [
            "Increment of 57:\n",
            "(0, 0, 1, 1, 1, 0, 1, 0)\n",
            "\n",
            "Decoding of incremented value:\n",
            "58\n"
          ]
        }
      ]
    },
    {
      "cell_type": "code",
      "source": [
        "# function to decement (subtract 1) from a binary number.\n",
        "def decrement(a):\n",
        "\t# convert from tuple to list\n",
        "\tresult = list(a)\n",
        "\n",
        "\t# for each bit, from right to left\n",
        "\tfor i in reversed(range(8)):\n",
        "\t\t# if this bit is 1, change to 0 and stop\n",
        "\t\tif result[i] == 1:\n",
        "\t\t\tresult[i] = 0\n",
        "\t\t\tbreak\n",
        "\t\t# if this bit is 0, change to 1 and move left\n",
        "\t\telse:\n",
        "\t\t\tresult[i] = 1\n",
        "\n",
        "\t# convert from list to tuple\n",
        "\treturn tuple(result)\n"
      ],
      "metadata": {
        "id": "Y1Wl2bysEzDn"
      },
      "execution_count": 15,
      "outputs": []
    },
    {
      "cell_type": "code",
      "source": [
        "# Try decrementing an incremented number and decode it to check all functions are working together.\n",
        "print('Decrement of 57:')\n",
        "val = encode(57)\n",
        "print(decrement(val))\n",
        "print('\\nDecoding of incremented value:') #\\n adds a linebreak\n",
        "print(decode(decrement(val)))"
      ],
      "metadata": {
        "id": "XAJ0pRYTE1bQ",
        "colab": {
          "base_uri": "https://localhost:8080/"
        },
        "outputId": "65e2704a-64d8-41a4-be53-f4b812331b6b"
      },
      "execution_count": 16,
      "outputs": [
        {
          "output_type": "stream",
          "name": "stdout",
          "text": [
            "Decrement of 57:\n",
            "(0, 0, 1, 1, 1, 0, 0, 0)\n",
            "\n",
            "Decoding of incremented value:\n",
            "56\n"
          ]
        }
      ]
    },
    {
      "cell_type": "markdown",
      "source": [
        "# Adding and Subtracting Numbers"
      ],
      "metadata": {
        "id": "07dqqjHmE3R9"
      }
    },
    {
      "cell_type": "markdown",
      "source": [
        "The following functions add and subtract two binary numbers."
      ],
      "metadata": {
        "id": "nz1m6VfZE5dW"
      }
    },
    {
      "cell_type": "code",
      "source": [
        "# Function to add two binary numbers together\n",
        "def add(a, b):\n",
        "\t# initialise result to all zero bits\n",
        "\tresult = [0, 0, 0, 0, 0, 0, 0, 0]\n",
        "\n",
        "\t# initialise carry bit to 0\n",
        "\tcarry = 0\n",
        "\n",
        "\t# for each bit, from right to left\n",
        "\tfor i in reversed(range(8)):\n",
        "\t\t# add the values for these two bits, including the carry bit\n",
        "\n",
        "\t\t# update the result with the 1s bit of the addition\n",
        "\t\t# 1 if an odd number of a[i], b[i] and carry are 1\n",
        "\t\tresult[i] = a[i] ^ b[i] ^ carry\n",
        "\n",
        "\t\t# update the carry bit with the 2s bit of the addition\n",
        "\t\t# 1 if at least two of a[i], b[i] and carry are 1\n",
        "\t\tcarry = (a[i] & b[i]) | (a[i] & carry) | (b[i] & carry)\n",
        "\n",
        "\t# convert from list to tuple\n",
        "\treturn tuple(result)\n",
        "\n",
        "def subtract(a, b):\n",
        "\t# initialise result to all zero bits\n",
        "\tresult = [0, 0, 0, 0, 0, 0, 0, 0]\n",
        "\n",
        "\t# initialise carry bit to 0\n",
        "\tcarry = 0\n",
        "\n",
        "\t# for each bit, from right to left\n",
        "\tfor i in reversed(range(8)):\n",
        "\t\t# subtract the values for these two bits, including the carry bit\n",
        "\n",
        "\t\t# update the result with the 1s bit of the subtraction\n",
        "\t\t# 1 if an odd number of a[i], b[i] and carry are 1\n",
        "\t\tresult[i] = a[i] ^ b[i] ^ carry\n",
        "\n",
        "\t\t# update the carry bit with the 2s bit of the subtraction\n",
        "\t\t# 1 if a[i] is 0 and one of b[i] or carry are 1, or if both b[i] and carry are 1\n",
        "\t\tcarry = (~a[i] & b[i]) | (~a[i] & carry) | (b[i] & carry)\n",
        "\n",
        "\t# convert from list to tuple\n",
        "\treturn tuple(result)"
      ],
      "metadata": {
        "id": "z3GYGmktE9s7"
      },
      "execution_count": 18,
      "outputs": []
    },
    {
      "cell_type": "code",
      "source": [
        "# Test it out with 5 and 13:\n",
        "# firstly, encode 5 and then 13 into variables x and y:\n",
        "x = encode(5)\n",
        "y = encode(13)\n",
        "# now add them together:\n",
        "val = add(x,y)\n",
        "print('Binary number for 5 + 13:')\n",
        "print(val)\n",
        "print('\\nCheck by decoding them:')\n",
        "print(decode(val))"
      ],
      "metadata": {
        "colab": {
          "base_uri": "https://localhost:8080/"
        },
        "id": "lvzHbvb4FAhB",
        "outputId": "7ccb50ae-fea3-43af-edd3-d9e5ecf5eacc"
      },
      "execution_count": 19,
      "outputs": [
        {
          "output_type": "stream",
          "name": "stdout",
          "text": [
            "Binary number for 5 + 13:\n",
            "(0, 0, 0, 1, 0, 0, 1, 0)\n",
            "\n",
            "Check by decoding them:\n",
            "18\n"
          ]
        }
      ]
    },
    {
      "cell_type": "code",
      "source": [
        "# Try subtracting 5 from 13 and check that the result is 8:\n",
        "x = encode(5)\n",
        "y = encode(13)\n",
        "# now add them together:\n",
        "val = subtract(y,x)\n",
        "print('Binary number for 13 - 5:')\n",
        "print(val)\n",
        "print('\\nCheck by decoding them:')\n",
        "print(decode(val))"
      ],
      "metadata": {
        "id": "Cynl3j-BFD6G",
        "colab": {
          "base_uri": "https://localhost:8080/"
        },
        "outputId": "635b7459-5275-45cc-f71f-0213a9ce8db2"
      },
      "execution_count": 22,
      "outputs": [
        {
          "output_type": "stream",
          "name": "stdout",
          "text": [
            "Binary number for 13 - 5:\n",
            "(0, 0, 0, 0, 1, 0, 0, 0)\n",
            "\n",
            "Check by decoding them:\n",
            "8\n"
          ]
        }
      ]
    },
    {
      "cell_type": "markdown",
      "source": [
        "This is the end of your first workbook for Data Structures and Algorithms. Make sure you add comments and text boxes in to show what you've done and why. Then save the file or download by clicking 'file' and 'download .ipynb'."
      ],
      "metadata": {
        "id": "GOOAOmltFGE_"
      }
    },
    {
      "cell_type": "code",
      "source": [
        "\n",
        "def counts(n):\n",
        "  count = 0\n",
        "  while n:\n",
        "    n = n & (n-1)\n",
        "    count = count + 1\n",
        "  return count\n",
        "\n",
        "print(counts(25))\n"
      ],
      "metadata": {
        "id": "mjhJSSrLFIzg",
        "colab": {
          "base_uri": "https://localhost:8080/"
        },
        "outputId": "6a9169a2-408a-482d-fbed-9aa17297d84e"
      },
      "execution_count": 32,
      "outputs": [
        {
          "output_type": "stream",
          "name": "stdout",
          "text": [
            "3\n"
          ]
        }
      ]
    },
    {
      "cell_type": "markdown",
      "source": [
        "Above function counts the number of 1 in the given number"
      ],
      "metadata": {
        "id": "kB7D8Ir3Mh59"
      }
    }
  ]
}