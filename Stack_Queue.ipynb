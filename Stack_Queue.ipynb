{
  "nbformat": 4,
  "nbformat_minor": 0,
  "metadata": {
    "colab": {
      "provenance": [],
      "include_colab_link": true
    },
    "kernelspec": {
      "name": "python3",
      "display_name": "Python 3"
    },
    "language_info": {
      "name": "python"
    }
  },
  "cells": [
    {
      "cell_type": "markdown",
      "metadata": {
        "id": "view-in-github",
        "colab_type": "text"
      },
      "source": [
        "<a href=\"https://colab.research.google.com/github/nishanshrestha04/DSA_NOTES/blob/main/Stack_Queue.ipynb\" target=\"_parent\"><img src=\"https://colab.research.google.com/assets/colab-badge.svg\" alt=\"Open In Colab\"/></a>"
      ]
    },
    {
      "cell_type": "markdown",
      "source": [
        "# Your Name: Nishan Shrestha\n",
        "\n",
        "# Student ID: 24128429\n"
      ],
      "metadata": {
        "id": "awXPCdL88i24"
      }
    },
    {
      "cell_type": "code",
      "source": [
        "#SOLVE Tower of Hanoi Problem for 4 no.discs & derive the input equation"
      ],
      "metadata": {
        "id": "-YM2si6csil1"
      },
      "execution_count": null,
      "outputs": []
    },
    {
      "cell_type": "code",
      "source": [
        "#Your Code Here\n",
        "def toh(n,source,spare,destination):\n",
        "  if n ==0:\n",
        "    return f'Invalid'\n",
        "  else:\n",
        "    toh(n-1,source,destination,spare)\n",
        "    print(f'Move {n} disc from {source} to {destination}')\n",
        "    toh(n-1,spare,destination,source)\n",
        "\n",
        "toh(4, \"A\", \"B\", \"C\")"
      ],
      "metadata": {
        "id": "RvUv9pZxsv7D",
        "colab": {
          "base_uri": "https://localhost:8080/"
        },
        "outputId": "a5c2cf64-c8f4-4898-957d-895c959caadc"
      },
      "execution_count": null,
      "outputs": [
        {
          "output_type": "stream",
          "name": "stdout",
          "text": [
            "Move 1 disc from A to B\n",
            "Move 2 disc from A to C\n",
            "Move 1 disc from B to A\n",
            "Move 3 disc from A to B\n",
            "Move 1 disc from C to B\n",
            "Move 2 disc from C to A\n",
            "Move 1 disc from B to C\n",
            "Move 4 disc from A to C\n",
            "Move 1 disc from B to A\n",
            "Move 2 disc from B to C\n",
            "Move 1 disc from A to B\n",
            "Move 3 disc from B to A\n",
            "Move 1 disc from C to A\n",
            "Move 2 disc from C to B\n",
            "Move 1 disc from A to C\n"
          ]
        }
      ]
    },
    {
      "cell_type": "code",
      "source": [
        "!pip install latexify-py==0.2."
      ],
      "metadata": {
        "colab": {
          "base_uri": "https://localhost:8080/"
        },
        "id": "0V_dSY3Bs4Sd",
        "outputId": "159e1187-6051-465b-c70d-eddbdcf372e7"
      },
      "execution_count": null,
      "outputs": [
        {
          "output_type": "stream",
          "name": "stdout",
          "text": [
            "Collecting latexify-py==0.2.\n",
            "  Downloading latexify_py-0.2.0-py3-none-any.whl (22 kB)\n",
            "Collecting dill>=0.3.2 (from latexify-py==0.2.)\n",
            "  Downloading dill-0.3.8-py3-none-any.whl (116 kB)\n",
            "\u001b[2K     \u001b[90m━━━━━━━━━━━━━━━━━━━━━━━━━━━━━━━━━━━━━━━━\u001b[0m \u001b[32m116.3/116.3 kB\u001b[0m \u001b[31m3.9 MB/s\u001b[0m eta \u001b[36m0:00:00\u001b[0m\n",
            "\u001b[?25hInstalling collected packages: dill, latexify-py\n",
            "Successfully installed dill-0.3.8 latexify-py-0.2.0\n"
          ]
        }
      ]
    },
    {
      "cell_type": "code",
      "source": [
        "import math\n",
        "import latexify"
      ],
      "metadata": {
        "id": "Lp7uFZhVs65y"
      },
      "execution_count": null,
      "outputs": []
    },
    {
      "cell_type": "code",
      "source": [
        "@latexify.with_latex\n",
        "def T(n):\n",
        "  return 2*T(n-1)+1\n",
        "T"
      ],
      "metadata": {
        "colab": {
          "base_uri": "https://localhost:8080/",
          "height": 39
        },
        "id": "sZNcQVhws9Zh",
        "outputId": "cc1ff491-9c19-4893-93d6-5bf0170d4d15"
      },
      "execution_count": null,
      "outputs": [
        {
          "output_type": "execute_result",
          "data": {
            "text/plain": [
              "<latexify.frontend.LatexifiedFunction at 0x7e988c5da4a0>"
            ],
            "text/latex": "$$ \\displaystyle \\mathrm{T}(n) = {2} \\mathrm{T}\\left(n - {1}\\right) + {1} $$"
          },
          "metadata": {},
          "execution_count": 4
        }
      ]
    },
    {
      "cell_type": "markdown",
      "source": [
        "\\begin{align*}\n",
        "T(n) &= 2 (2 T(n - 2) + 1) + 1 \\\\\n",
        "&= 2^2 T(n - 2) + 2 + 1 \\\\\n",
        "T(n) &= 2^3 T(n - 3) + 2^2 + 2 + 1 \\\\\n",
        "\\end{align*}"
      ],
      "metadata": {
        "id": "OXkpFVlzuhx3"
      }
    },
    {
      "cell_type": "markdown",
      "source": [
        "Solve the above Problem"
      ],
      "metadata": {
        "id": "r6guU6LDupxD"
      }
    },
    {
      "cell_type": "markdown",
      "source": [
        "Your LaTeX here\n",
        "\n",
        "\\begin{align*}\n",
        "T(n) &= 2T (n -1) + 1 \\\\\n",
        "&= 2[2T (n - 2) + 1] + 1\\\\\n",
        "&= 4T (n - 2) + 2 + 1\\\\\n",
        "&= 8T (n - 3) + 4 + 2 + 1\\\\\n",
        "&= 2 ^ 3T (n - 3) + 2 ^ 2 + 2 ^ 1 + 2 ^ 0\\\\\n",
        "&= 2 ^ kT(n - 3) + 2 ^ 2 + 2 ^ 1 + 2^ 0\\\\\n",
        "T(n - 1) &= 2T (n -2) + 1\\\\\n",
        "So, \\\\\n",
        "&= 2^kT(n - k) + 2^{k - 1} + 2^{k -2} + 2^ {k-3}+ .....+ 2^1 + 2 ^ 0\\\\\n",
        "\\end{align*}"
      ],
      "metadata": {
        "id": "FVj2XN2ouuQl"
      }
    },
    {
      "cell_type": "markdown",
      "source": [
        "# Exercise: Lists\n",
        "\n",
        "Create a list in Python, for example:<br>\n",
        "\n",
        "`x = [‘a’, 25, ‘dog’, 8.43]`\n",
        "\n",
        "Then find the correct Python code for operations supported by lists. For example:\n",
        "\n",
        "`[] or list()` creates an empty list,<br>\n",
        "`my_list[i]` gets the value at index i,<br>\n",
        "`my_list[i] = y` sets the value at index i to be y.\n"
      ],
      "metadata": {
        "id": "NMEgNNW9pq6T"
      }
    },
    {
      "cell_type": "markdown",
      "source": [
        "\n",
        "\n",
        "**1.   Using Using square brackets `[]`:**<br>\n",
        "You can create a list by enclosing a comma-separated sequence of values in square brackets.\n",
        "\n"
      ],
      "metadata": {
        "id": "k5gDddGPrsYd"
      }
    },
    {
      "cell_type": "code",
      "source": [
        "x = ['a', 25, 'dog', 8.43]\n",
        "x"
      ],
      "metadata": {
        "colab": {
          "base_uri": "https://localhost:8080/"
        },
        "id": "_VcVdatSqZhj",
        "outputId": "a5f7f807-6cde-4e55-a471-3fca999712fe"
      },
      "execution_count": null,
      "outputs": [
        {
          "output_type": "execute_result",
          "data": {
            "text/plain": [
              "['a', 25, 'dog', 8.43]"
            ]
          },
          "metadata": {},
          "execution_count": 1
        }
      ]
    },
    {
      "cell_type": "code",
      "source": [
        "print(x)"
      ],
      "metadata": {
        "colab": {
          "base_uri": "https://localhost:8080/"
        },
        "id": "eEA9vvESrWSR",
        "outputId": "1e76148f-fefe-4870-c196-344a9ba953d2"
      },
      "execution_count": null,
      "outputs": [
        {
          "output_type": "stream",
          "name": "stdout",
          "text": [
            "['a', 25, 'dog', 8.43]\n"
          ]
        }
      ]
    },
    {
      "cell_type": "code",
      "source": [
        "type(x)"
      ],
      "metadata": {
        "colab": {
          "base_uri": "https://localhost:8080/"
        },
        "id": "RGl7Yg0irZCi",
        "outputId": "7a2faf8f-280e-4f7b-ed48-dd0419c0d3e2"
      },
      "execution_count": null,
      "outputs": [
        {
          "output_type": "execute_result",
          "data": {
            "text/plain": [
              "list"
            ]
          },
          "metadata": {},
          "execution_count": 11
        }
      ]
    },
    {
      "cell_type": "markdown",
      "source": [
        "**2.   Using the `list()` constructor:**<br>\n",
        "You can create a list by calling the `list() `constructor with an iterable as its argument."
      ],
      "metadata": {
        "id": "l9C43FjKsC8z"
      }
    },
    {
      "cell_type": "code",
      "source": [
        "x = list(('a', 25, 'dog', 8.43))\n",
        "print(x)\n",
        "type(x)"
      ],
      "metadata": {
        "colab": {
          "base_uri": "https://localhost:8080/"
        },
        "id": "1qN57vS5r-x0",
        "outputId": "1ab99639-cb76-4442-dcc3-5ed90f14a41b"
      },
      "execution_count": null,
      "outputs": [
        {
          "output_type": "stream",
          "name": "stdout",
          "text": [
            "['a', 25, 'dog', 8.43]\n"
          ]
        },
        {
          "output_type": "execute_result",
          "data": {
            "text/plain": [
              "list"
            ]
          },
          "metadata": {},
          "execution_count": 12
        }
      ]
    },
    {
      "cell_type": "markdown",
      "source": [
        "**3.   List comprehension:**<br>\n",
        "You can create a list using a list comprehension, which is a concise way to create lists based on existing iterables.\n",
        "\n"
      ],
      "metadata": {
        "id": "gx3X5w_jsoEY"
      }
    },
    {
      "cell_type": "code",
      "source": [
        "my_list = [y for y in range(1, 6)]\n",
        "print(my_list)"
      ],
      "metadata": {
        "colab": {
          "base_uri": "https://localhost:8080/"
        },
        "id": "KbuzWC0Urb86",
        "outputId": "3964ca55-108c-47e0-eca9-3481d27d8a38"
      },
      "execution_count": null,
      "outputs": [
        {
          "output_type": "stream",
          "name": "stdout",
          "text": [
            "[1, 2, 3, 4, 5]\n"
          ]
        }
      ]
    },
    {
      "cell_type": "markdown",
      "source": [
        "**4.   Using the `*` operator:**<br>\n",
        "You can create a list with a repeated value using the `*` operator."
      ],
      "metadata": {
        "id": "Hq5mLHv0s7ah"
      }
    },
    {
      "cell_type": "code",
      "source": [
        "my_list = [13] * 5\n",
        "print(my_list)"
      ],
      "metadata": {
        "colab": {
          "base_uri": "https://localhost:8080/"
        },
        "id": "ScrsjnfxtI2D",
        "outputId": "e19b7097-5666-4d8b-c9aa-008b5bafcf3a"
      },
      "execution_count": null,
      "outputs": [
        {
          "output_type": "stream",
          "name": "stdout",
          "text": [
            "[13, 13, 13, 13, 13]\n"
          ]
        }
      ]
    },
    {
      "cell_type": "markdown",
      "source": [
        "**5. Appending values using a loop:**<br>\n",
        "You can create a `list` by `appending` values to an empty list using a `loop`."
      ],
      "metadata": {
        "id": "WjIpm44PtVGU"
      }
    },
    {
      "cell_type": "code",
      "source": [
        "my_list = []\n",
        "for i in range(1, 6):\n",
        "    my_list.append(i)\n",
        "print(my_list)"
      ],
      "metadata": {
        "colab": {
          "base_uri": "https://localhost:8080/"
        },
        "id": "gwN7zOmSttQ8",
        "outputId": "27d03861-cf25-41e0-b4fc-765942c290d9"
      },
      "execution_count": null,
      "outputs": [
        {
          "output_type": "stream",
          "name": "stdout",
          "text": [
            "[1, 2, 3, 4, 5]\n"
          ]
        }
      ]
    },
    {
      "cell_type": "code",
      "source": [
        "my_list = []\n",
        "my_list.append(1)\n",
        "my_list.append(2)\n",
        "my_list.append(3)\n",
        "my_list.append(4)\n",
        "my_list.append(5)\n",
        "print(my_list)"
      ],
      "metadata": {
        "colab": {
          "base_uri": "https://localhost:8080/"
        },
        "id": "Q4UoYg64uWrq",
        "outputId": "30d5ff88-6b2d-411b-a3df-3814eb2e3969"
      },
      "execution_count": null,
      "outputs": [
        {
          "output_type": "stream",
          "name": "stdout",
          "text": [
            "[1, 2, 3, 4, 5]\n"
          ]
        }
      ]
    },
    {
      "cell_type": "code",
      "source": [
        "my_list = [1, 2, 3]\n",
        "my_list.extend([4, 5])\n",
        "print(my_list)"
      ],
      "metadata": {
        "colab": {
          "base_uri": "https://localhost:8080/"
        },
        "id": "EYlOM51VuYR4",
        "outputId": "254d61a0-d085-421f-aba7-1c473dcb603f"
      },
      "execution_count": null,
      "outputs": [
        {
          "output_type": "stream",
          "name": "stdout",
          "text": [
            "[1, 2, 3, 4, 5]\n"
          ]
        }
      ]
    },
    {
      "cell_type": "code",
      "source": [
        "my_list = [1, 2, 3, 5]\n",
        "my_list.insert(0, 50)\n",
        "print(my_list)"
      ],
      "metadata": {
        "colab": {
          "base_uri": "https://localhost:8080/"
        },
        "id": "IGMHq3fIukj3",
        "outputId": "49f8d578-4e96-4bcd-c656-e3b9ffa94b8c"
      },
      "execution_count": null,
      "outputs": [
        {
          "output_type": "stream",
          "name": "stdout",
          "text": [
            "[50, 1, 2, 3, 5]\n"
          ]
        }
      ]
    },
    {
      "cell_type": "code",
      "source": [
        "my_string = \"one two three four five\"\n",
        "my_list = my_string.split()\n",
        "print(my_list)"
      ],
      "metadata": {
        "colab": {
          "base_uri": "https://localhost:8080/"
        },
        "id": "Ro0zz239u3Mv",
        "outputId": "c5bb1747-500e-46f5-b980-bbdb075049bc"
      },
      "execution_count": null,
      "outputs": [
        {
          "output_type": "stream",
          "name": "stdout",
          "text": [
            "['one', 'two', 'three', 'four', 'five']\n"
          ]
        }
      ]
    },
    {
      "cell_type": "markdown",
      "source": [
        "`my_list[i]` gets the value at index i,<br>\n",
        "`my_list[i] = y` sets the value at index i to be y."
      ],
      "metadata": {
        "id": "Gq6txh2cvXCV"
      }
    },
    {
      "cell_type": "code",
      "source": [
        "x = ['a', 25, 'dog', 8.43]"
      ],
      "metadata": {
        "id": "CsLZINTAvblZ"
      },
      "execution_count": null,
      "outputs": []
    },
    {
      "cell_type": "code",
      "source": [
        "print((x[0], x[3]))"
      ],
      "metadata": {
        "colab": {
          "base_uri": "https://localhost:8080/"
        },
        "id": "fbV1B11nvVNx",
        "outputId": "064d34a3-0e95-46a8-9b6e-76e6ca9095e2"
      },
      "execution_count": null,
      "outputs": [
        {
          "output_type": "stream",
          "name": "stdout",
          "text": [
            "('a', 8.43)\n"
          ]
        }
      ]
    },
    {
      "cell_type": "code",
      "source": [
        "x[0] = 'b'\n",
        "print(x)"
      ],
      "metadata": {
        "colab": {
          "base_uri": "https://localhost:8080/"
        },
        "id": "5mJHika4vwiz",
        "outputId": "8f845b94-2180-405a-f58d-8e5f102d47b8"
      },
      "execution_count": null,
      "outputs": [
        {
          "output_type": "stream",
          "name": "stdout",
          "text": [
            "['b', 25, 'dog', 8.43]\n"
          ]
        }
      ]
    },
    {
      "cell_type": "markdown",
      "source": [
        "# CLASS TASK - 1 <br>\n",
        "**Please make a simple list** and do following exercises: <br>\n",
        "`[] or list()` creates an empty list,<br>\n",
        "`my_list[i]` gets the value at index i,<br>\n",
        "`my_list[i] = y `sets the value at index i to be y.<br>\n",
        "`len(my_list)` gets the length of the list,<br>\n",
        "`my_list.append(y)` appends the value y to the list,<br>\n",
        "`my_list.insert(i,y)` inserts the value y at index i,<br>\n",
        "`del my_list[i]` removes the value at index i, <br>\n",
        "`my_list.remove(y)` removes by value, not by index,<br>\n",
        "`my_list.clear() `clears the list<br>\n",
        "`For y in my_list:` iterates over the list<br>\n",
        "`my_list.extend(list1)` appends list1 to the end of my_list,<br>\n",
        "`my_list.index(y) `returns the index of the first element with value y,<br>\n",
        "`my_list.reverse() `reverses the elements of the list."
      ],
      "metadata": {
        "id": "aj1kEcCAvH2J"
      }
    },
    {
      "cell_type": "code",
      "source": [
        "#Code here\n",
        "#Your can add more cells if you think its necessary\n",
        "my_list = []"
      ],
      "metadata": {
        "id": "gWR8uqSYvDzr"
      },
      "execution_count": null,
      "outputs": []
    },
    {
      "cell_type": "code",
      "source": [
        "my_list.append(\"apple\")\n",
        "first_fruit = my_list[0]\n",
        "print(first_fruit)"
      ],
      "metadata": {
        "id": "aCrZANrNDC25"
      },
      "execution_count": null,
      "outputs": []
    },
    {
      "cell_type": "code",
      "source": [
        "my_list = [\"apple\", \"banana\", \"cherry\"]\n",
        "my_list[1] = \"orange\"\n",
        "print(my_list)"
      ],
      "metadata": {
        "id": "2-wa60_-DLDC"
      },
      "execution_count": null,
      "outputs": []
    },
    {
      "cell_type": "code",
      "source": [
        "my_list = [\"apple\", \"orange\", \"cherry\"]\n",
        "length_of_list = len(my_list)\n",
        "print(length_of_list)"
      ],
      "metadata": {
        "id": "1n1UvwJQDXNh"
      },
      "execution_count": null,
      "outputs": []
    },
    {
      "cell_type": "code",
      "source": [
        "my_list = [\"apple\", \"orange\"]\n",
        "my_list.append(\"grape\")\n",
        "print(my_list)"
      ],
      "metadata": {
        "id": "nuW6HK4cDemq"
      },
      "execution_count": null,
      "outputs": []
    },
    {
      "cell_type": "code",
      "source": [
        "my_list = [\"apple\", \"cherry\"]\n",
        "my_list.insert(1, \"orange\")\n",
        "print(my_list)"
      ],
      "metadata": {
        "id": "VXuOoa1dDkQ0"
      },
      "execution_count": null,
      "outputs": []
    },
    {
      "cell_type": "code",
      "source": [
        "my_list = [\"apple\", \"orange\", \"cherry\"]\n",
        "del my_list[1]\n",
        "print(my_list)"
      ],
      "metadata": {
        "id": "U5wZaV4gDqTU"
      },
      "execution_count": null,
      "outputs": []
    },
    {
      "cell_type": "code",
      "source": [
        "my_list = [\"apple\", \"orange\", \"cherry\"]\n",
        "my_list.remove(\"orange\")\n",
        "print(my_list)\n"
      ],
      "metadata": {
        "id": "lcshId0hDwYD"
      },
      "execution_count": null,
      "outputs": []
    },
    {
      "cell_type": "code",
      "source": [
        "my_list = [\"apple\", \"cherry\"]\n",
        "my_list.clear()\n",
        "print(my_list)"
      ],
      "metadata": {
        "id": "fMjN3IYvD1LJ"
      },
      "execution_count": null,
      "outputs": []
    },
    {
      "cell_type": "code",
      "source": [
        "my_list = [\"apple\", \"orange\", \"cherry\"]\n",
        "for i in my_list:\n",
        "  print(i)"
      ],
      "metadata": {
        "id": "e1v7TkIHD6cj"
      },
      "execution_count": null,
      "outputs": []
    },
    {
      "cell_type": "code",
      "source": [
        "my_list = [\"apple\", \"orange\"]\n",
        "another_list = [\"mango\", \"grape\"]\n",
        "my_list.extend(another_list)\n",
        "print(my_list)"
      ],
      "metadata": {
        "id": "MHlWkVf6ECJ6"
      },
      "execution_count": null,
      "outputs": []
    },
    {
      "cell_type": "code",
      "source": [
        "my_list = [\"apple\", \"orange\", \"cherry\"]\n",
        "orange_index = my_list.index(\"orange\")\n",
        "print(orange_index)"
      ],
      "metadata": {
        "id": "OwRPgXz7EI-7"
      },
      "execution_count": null,
      "outputs": []
    },
    {
      "cell_type": "code",
      "source": [
        "my_list = [\"apple\", \"orange\", \"cherry\"]\n",
        "my_list.reverse()\n",
        "print(my_list)"
      ],
      "metadata": {
        "id": "cYuTNIsbESpu"
      },
      "execution_count": null,
      "outputs": []
    },
    {
      "cell_type": "markdown",
      "source": [],
      "metadata": {
        "id": "5aQu5qBzO5M_"
      }
    },
    {
      "cell_type": "markdown",
      "source": [
        "# Exercise: Dictionaries\n",
        "Create a dictionary in Python then find the correct Python code for operations supported by dictionaries. For example:\n",
        "\n",
        "`{}` or `dict()` creates an empty dictionary."
      ],
      "metadata": {
        "id": "6rUZas0DBeBU"
      }
    },
    {
      "cell_type": "code",
      "source": [
        "# Using curly braces {}\n",
        "my_dict = {'apple': 2, 'banana': 3, 'orange': 1}\n",
        "print(my_dict)"
      ],
      "metadata": {
        "colab": {
          "base_uri": "https://localhost:8080/"
        },
        "id": "q6gKRy7fCNaR",
        "outputId": "90c619fb-acec-4e7f-bc3c-5c659a376eda"
      },
      "execution_count": null,
      "outputs": [
        {
          "output_type": "stream",
          "name": "stdout",
          "text": [
            "{'apple': 2, 'banana': 3, 'orange': 1}\n"
          ]
        }
      ]
    },
    {
      "cell_type": "code",
      "source": [
        "type(my_dict)"
      ],
      "metadata": {
        "colab": {
          "base_uri": "https://localhost:8080/"
        },
        "id": "bE69pC8SCTP0",
        "outputId": "be18e46c-946a-4874-b497-732a1f9333d7"
      },
      "execution_count": null,
      "outputs": [
        {
          "output_type": "execute_result",
          "data": {
            "text/plain": [
              "dict"
            ]
          },
          "metadata": {},
          "execution_count": 2
        }
      ]
    },
    {
      "cell_type": "code",
      "source": [
        "# Using dict() constructor\n",
        "my_dict = dict(apple=2, banana=3, orange=1)\n",
        "print(my_dict)"
      ],
      "metadata": {
        "colab": {
          "base_uri": "https://localhost:8080/"
        },
        "id": "Eil2vdgcCaig",
        "outputId": "5d67a574-d70e-4331-d15d-53cbfcdcb936"
      },
      "execution_count": null,
      "outputs": [
        {
          "output_type": "stream",
          "name": "stdout",
          "text": [
            "{'apple': 2, 'banana': 3, 'orange': 1}\n"
          ]
        }
      ]
    },
    {
      "cell_type": "code",
      "source": [
        "print(len(my_dict))  # Output: 3\n",
        "print(my_dict['banana'])  # Output: 3"
      ],
      "metadata": {
        "colab": {
          "base_uri": "https://localhost:8080/"
        },
        "id": "3iZQMxpmCpS0",
        "outputId": "09b2e220-23fe-4603-9a26-c45d7bb7aff5"
      },
      "execution_count": null,
      "outputs": [
        {
          "output_type": "stream",
          "name": "stdout",
          "text": [
            "3\n",
            "3\n"
          ]
        }
      ]
    },
    {
      "cell_type": "code",
      "source": [
        "my_dict['pear'] = 4\n",
        "print(my_dict)  # Output: {'apple': 2, 'banana': 3, 'orange': 1, 'pear': 4}"
      ],
      "metadata": {
        "colab": {
          "base_uri": "https://localhost:8080/"
        },
        "id": "nsyUuJ37CvTV",
        "outputId": "fe550e68-5f2a-4701-abe3-a8eb08f7b61b"
      },
      "execution_count": null,
      "outputs": [
        {
          "output_type": "stream",
          "name": "stdout",
          "text": [
            "{'apple': 2, 'banana': 3, 'orange': 1, 'pear': 4}\n"
          ]
        }
      ]
    },
    {
      "cell_type": "code",
      "source": [
        "del my_dict['orange']\n",
        "print(my_dict)  # Output: {'apple': 2, 'banana': 3, 'pear': 4}"
      ],
      "metadata": {
        "colab": {
          "base_uri": "https://localhost:8080/"
        },
        "id": "BkBsBae5Cyk9",
        "outputId": "83631245-6a7f-4cab-eb28-35675b816f4d"
      },
      "execution_count": null,
      "outputs": [
        {
          "output_type": "stream",
          "name": "stdout",
          "text": [
            "{'apple': 2, 'banana': 3, 'pear': 4}\n"
          ]
        }
      ]
    },
    {
      "cell_type": "code",
      "source": [
        "print('apple' in my_dict)  # Output: True\n",
        "print(my_dict.keys())  # Output: dict_keys(['apple', 'banana', 'pear'])\n",
        "print(my_dict.values())  # Output: dict_values([2, 3, 4])\n",
        "print(my_dict.items())  # Output: dict_items([('apple', 2), ('banana', 3), ('pear', 4)])"
      ],
      "metadata": {
        "colab": {
          "base_uri": "https://localhost:8080/"
        },
        "id": "tUcnhBsDC25M",
        "outputId": "7c3a2484-d3f1-4392-fbc2-2ed15bc199e3"
      },
      "execution_count": null,
      "outputs": [
        {
          "output_type": "stream",
          "name": "stdout",
          "text": [
            "True\n",
            "dict_keys(['apple', 'banana', 'pear'])\n",
            "dict_values([2, 3, 4])\n",
            "dict_items([('apple', 2), ('banana', 3), ('pear', 4)])\n"
          ]
        }
      ]
    },
    {
      "cell_type": "code",
      "source": [
        "# Let's create the dictionary from the video lecture:\n",
        "dct = {'pork':25.3,'beef':33.8,'chicken':22.7}\n",
        "print(dct['pork'])\n",
        "# What if we need to increase the weight of each of the meats by 3kg:\n",
        "for k in dct:\n",
        "  dct[k]=dct[k]+3\n",
        "\n",
        "print(dct)"
      ],
      "metadata": {
        "colab": {
          "base_uri": "https://localhost:8080/"
        },
        "id": "OyWuE5JOOl-T",
        "outputId": "34b3d92c-de5e-4a06-c451-da15d85e12d7"
      },
      "execution_count": null,
      "outputs": [
        {
          "output_type": "stream",
          "name": "stdout",
          "text": [
            "25.3\n",
            "{'pork': 28.3, 'beef': 36.8, 'chicken': 25.7}\n"
          ]
        }
      ]
    },
    {
      "cell_type": "markdown",
      "source": [
        "# CLASS TASK - 2 <br>\n",
        "**Please make a simple Dictionary** and do following exercises: <br>\n",
        "`{}` or `dict()` creates an empty dictionary.<br>\n",
        "`my_dict[k]` or `my_dict.get(k)` gets the value for key k,<br>\n",
        "`my_dict[k] = y` sets the value for key k to be y,<br>\n",
        "k in my_dict checks whether the dictionary contains the key k,<br>\n",
        "`len(my_dict)` gets the size of the dictionary,<br>\n",
        "`del my_dict[k]` or `my_dict.pop(k)` removes the key k and its value,<br>\n",
        "`my_dict.clear()` clears the dictionary,<br>\n",
        "`for k in my_dict:` iterates over the keys,<br>\n",
        "`for x in my_dict.values():` iterates over the values,<br>\n",
        "`for k, y in my_dict.items():` iterates over the key/value pairs."
      ],
      "metadata": {
        "id": "zbMz7CyZDJIp"
      }
    },
    {
      "cell_type": "code",
      "source": [
        "#Code here\n",
        "#Your can add more cells if you think its necessary\n",
        "my_dict = {}"
      ],
      "metadata": {
        "id": "eRFT4dX6DIVy"
      },
      "execution_count": null,
      "outputs": []
    },
    {
      "cell_type": "code",
      "source": [
        "my_dict = {\"name\": \"Alice\", \"age\": 30}\n",
        "\n",
        "name_value = my_dict[\"name\"]\n",
        "another_name_value = my_dict.get(\"name\")\n",
        "print(name_value, another_name_value)\n",
        "\n",
        "my_dict[\"age\"] = 31\n",
        "print(my_dict)"
      ],
      "metadata": {
        "id": "Oe6WkDnnHD_I"
      },
      "execution_count": null,
      "outputs": []
    },
    {
      "cell_type": "code",
      "source": [
        "my_dict = {\"name\": \"Alice\", \"age\": 30}\n",
        "has_name_key = \"name\" in my_dict\n",
        "has_city_key = \"city\" in my_dict\n",
        "print(has_name_key, has_city_key)"
      ],
      "metadata": {
        "id": "hLeVbGpDHPFo"
      },
      "execution_count": null,
      "outputs": []
    },
    {
      "cell_type": "code",
      "source": [
        "my_dict = {\"name\": \"Alice\", \"age\": 30, \"city\": \"New York\"}\n",
        "size_of_dict = len(my_dict)\n",
        "print(size_of_dict)"
      ],
      "metadata": {
        "id": "-MBBTkrvHT7a"
      },
      "execution_count": null,
      "outputs": []
    },
    {
      "cell_type": "code",
      "source": [
        "my_dict = {\"name\": \"Alice\", \"age\": 30, \"city\": \"New York\"}\n",
        "\n",
        "del my_dict[\"city\"]\n",
        "\n",
        "removed_age = my_dict.pop(\"age\")\n",
        "print(my_dict, removed_age)"
      ],
      "metadata": {
        "id": "MFa-402iHWSQ"
      },
      "execution_count": null,
      "outputs": []
    },
    {
      "cell_type": "code",
      "source": [
        "my_dict = {\"name\": \"Alice\", \"age\": 30}\n",
        "my_dict.clear()\n",
        "print(my_dict)"
      ],
      "metadata": {
        "id": "p5FyQofgHcHB"
      },
      "execution_count": null,
      "outputs": []
    },
    {
      "cell_type": "code",
      "source": [
        "my_dict = {\"name\": \"Alice\", \"age\": 30, \"city\": \"New York\"}\n",
        "# Iterate over keys only\n",
        "\n",
        "for key in my_dict:\n",
        "  print(key)\n",
        "# Iterate over value only\n",
        "for value in my_dict.values():\n",
        "  print(value)\n",
        "\n",
        "# Iterate over key-value pairs\n",
        "for key, value in my_dict.items():\n",
        "  print(key, value)"
      ],
      "metadata": {
        "id": "5BrrHA_zHgQf"
      },
      "execution_count": null,
      "outputs": []
    },
    {
      "cell_type": "markdown",
      "source": [
        "# Exercise: Sets\n",
        "Create a set in Python then find the correct Python code for operations supported by sets. For example:\n",
        "\n",
        "`set()` creates an empty set (**Note**: `{}` creates and empty `dict`)."
      ],
      "metadata": {
        "id": "jfrNMeOoEBIS"
      }
    },
    {
      "cell_type": "code",
      "source": [
        "my_set = set((1,2))\n",
        "print(my_set)"
      ],
      "metadata": {
        "colab": {
          "base_uri": "https://localhost:8080/"
        },
        "id": "YtCjkigSEY6p",
        "outputId": "7d65859e-2216-4565-de27-74b3dc4ca7a6"
      },
      "execution_count": null,
      "outputs": [
        {
          "output_type": "stream",
          "name": "stdout",
          "text": [
            "{1, 2}\n"
          ]
        }
      ]
    },
    {
      "cell_type": "code",
      "source": [
        "my_set = set({1,2})\n",
        "print(my_set)"
      ],
      "metadata": {
        "colab": {
          "base_uri": "https://localhost:8080/"
        },
        "id": "GBAeug1SEo-t",
        "outputId": "993e7577-96b7-44a7-efcb-eb1c8bf293ea"
      },
      "execution_count": null,
      "outputs": [
        {
          "output_type": "stream",
          "name": "stdout",
          "text": [
            "{1, 2}\n"
          ]
        }
      ]
    },
    {
      "cell_type": "code",
      "source": [
        "# Using curly braces {}\n",
        "my_set = {1, 2, 3}\n",
        "print(my_set)"
      ],
      "metadata": {
        "colab": {
          "base_uri": "https://localhost:8080/"
        },
        "id": "yfcRiee9Esr2",
        "outputId": "c0eca349-9072-4441-ba8d-7412975abc2a"
      },
      "execution_count": null,
      "outputs": [
        {
          "output_type": "stream",
          "name": "stdout",
          "text": [
            "{1, 2, 3}\n"
          ]
        }
      ]
    },
    {
      "cell_type": "code",
      "source": [
        "# Empty Set\n",
        "my_set1 = set()\n",
        "# Set with initial values\n",
        "my_set1 = {10, 20, 30, 40, 50}"
      ],
      "metadata": {
        "id": "1amcLGKBE0J0"
      },
      "execution_count": null,
      "outputs": []
    },
    {
      "cell_type": "code",
      "source": [
        "print(my_set1)"
      ],
      "metadata": {
        "colab": {
          "base_uri": "https://localhost:8080/"
        },
        "id": "JsR6VEmTHAUV",
        "outputId": "fbf517a4-4037-40e7-dc15-67de416ab5e2"
      },
      "execution_count": null,
      "outputs": [
        {
          "output_type": "stream",
          "name": "stdout",
          "text": [
            "{50, 20, 40, 10, 30}\n"
          ]
        }
      ]
    },
    {
      "cell_type": "code",
      "source": [
        "# Add a single element\n",
        "my_set1.add(4) # Add a single element\n",
        "print(my_set1)"
      ],
      "metadata": {
        "colab": {
          "base_uri": "https://localhost:8080/"
        },
        "id": "iu47VE7HGklb",
        "outputId": "3ad296cc-75ec-4819-9c56-f73ebcdc521b"
      },
      "execution_count": null,
      "outputs": [
        {
          "output_type": "stream",
          "name": "stdout",
          "text": [
            "{50, 20, 4, 40, 10, 30}\n"
          ]
        }
      ]
    },
    {
      "cell_type": "code",
      "source": [
        "# Add multiple elements\n",
        "my_set1.update([5, 6, 7])\n",
        "print(my_set1)"
      ],
      "metadata": {
        "colab": {
          "base_uri": "https://localhost:8080/"
        },
        "id": "8_zRxcW_HrsB",
        "outputId": "48367ed6-858f-44e6-97f4-a53bf4a16927"
      },
      "execution_count": null,
      "outputs": [
        {
          "output_type": "stream",
          "name": "stdout",
          "text": [
            "{4, 5, 6, 7, 10, 20, 30, 40, 50}\n"
          ]
        }
      ]
    },
    {
      "cell_type": "code",
      "source": [
        "my_set1.remove(40) # Remove a specific element\n",
        "print(my_set1)"
      ],
      "metadata": {
        "colab": {
          "base_uri": "https://localhost:8080/"
        },
        "id": "oWflLBu9HcLE",
        "outputId": "1ae5cd3d-5b4e-496b-a448-b811d4479455"
      },
      "execution_count": null,
      "outputs": [
        {
          "output_type": "stream",
          "name": "stdout",
          "text": [
            "{4, 5, 6, 7, 10, 20, 30, 50}\n"
          ]
        }
      ]
    },
    {
      "cell_type": "code",
      "source": [
        "# Remove an element, if present\n",
        "my_set1.discard(600)\n",
        "print(my_set1)"
      ],
      "metadata": {
        "colab": {
          "base_uri": "https://localhost:8080/"
        },
        "id": "yEx-C9N4HidC",
        "outputId": "aa038d12-2d12-497b-893f-083e4f14de26"
      },
      "execution_count": null,
      "outputs": [
        {
          "output_type": "stream",
          "name": "stdout",
          "text": [
            "{4, 5, 6, 7, 10, 20, 30, 50}\n"
          ]
        }
      ]
    },
    {
      "cell_type": "code",
      "source": [
        "# Remove and return an arbitrary element\n",
        "my_set1.pop()\n",
        "print(my_set1)"
      ],
      "metadata": {
        "colab": {
          "base_uri": "https://localhost:8080/"
        },
        "id": "_CzDdgE0IJGW",
        "outputId": "87445ac5-d1af-48e0-85db-c3e0d852b03c"
      },
      "execution_count": null,
      "outputs": [
        {
          "output_type": "stream",
          "name": "stdout",
          "text": [
            "{5, 6, 7, 10, 20, 30, 50}\n"
          ]
        }
      ]
    },
    {
      "cell_type": "code",
      "source": [
        "# Remove all elements\n",
        "my_set1.clear()\n",
        "print(my_set1)"
      ],
      "metadata": {
        "colab": {
          "base_uri": "https://localhost:8080/"
        },
        "id": "H2QIZUuJIPVl",
        "outputId": "58a6ad4d-df2b-48ec-8dc1-35230fa04332"
      },
      "execution_count": null,
      "outputs": [
        {
          "output_type": "stream",
          "name": "stdout",
          "text": [
            "set()\n"
          ]
        }
      ]
    },
    {
      "cell_type": "code",
      "source": [
        "set1 = {1, 2, 3, 4}\n",
        "set2 = {3, 4, 5, 6}\n",
        "\n",
        "# Union of sets\n",
        "set3 = set1.union(set2)\n",
        "print(\"Set3 =\", set3)\n",
        "\n",
        "# Intersection of sets\n",
        "set4 = set1.intersection(set2)\n",
        "print(\"Set4 =\", set4)\n",
        "\n",
        "# Difference of sets\n",
        "set5 = set1.difference(set2)\n",
        "print(\"Set5 =\", set5)\n",
        "\n",
        "# Symmetric Difference of sets (remove commons)\n",
        "set6 = set1.symmetric_difference(set2)\n",
        "print(\"Set6 =\", set6)"
      ],
      "metadata": {
        "colab": {
          "base_uri": "https://localhost:8080/"
        },
        "id": "WFaZlaXrIW_q",
        "outputId": "9c547b9e-bf30-4f57-f53c-d34f844328af"
      },
      "execution_count": null,
      "outputs": [
        {
          "output_type": "stream",
          "name": "stdout",
          "text": [
            "Set3 = {1, 2, 3, 4, 5, 6}\n",
            "Set4 = {3, 4}\n",
            "Set5 = {1, 2}\n",
            "Set6 = {1, 2, 5, 6}\n"
          ]
        }
      ]
    },
    {
      "cell_type": "code",
      "source": [
        "my_set = {1, 2, 3, 4, 5}\n",
        "\n",
        "# Check if an element is in the set\n",
        "print(3 in my_set)\n",
        "\n",
        "# Check if an element is not in the set\n",
        "print(6 not in my_set)"
      ],
      "metadata": {
        "colab": {
          "base_uri": "https://localhost:8080/"
        },
        "id": "Htr4gQQ5I9ZX",
        "outputId": "cab426e6-75de-44e6-954d-4a1f17ea6419"
      },
      "execution_count": null,
      "outputs": [
        {
          "output_type": "stream",
          "name": "stdout",
          "text": [
            "True\n",
            "True\n"
          ]
        }
      ]
    },
    {
      "cell_type": "code",
      "source": [
        "set1 = {1, 2, 3}\n",
        "set2 = {2, 3, 4}\n",
        "print(set1 | set2) #union\n",
        "print(set1 & set2) #intersection\n",
        "print(set1 - set2 ) #difference\n",
        "print(set2 - set1)\n",
        "print(set1 ^ set2) #Symmetric difference - Remove elements common to both sets\n",
        "print(1 in set1)\n",
        "print(5 in set1)"
      ],
      "metadata": {
        "colab": {
          "base_uri": "https://localhost:8080/"
        },
        "id": "ZXKzUSnMJDa-",
        "outputId": "7070c064-c32b-4222-cbf1-e8b5b6b15b99"
      },
      "execution_count": null,
      "outputs": [
        {
          "output_type": "stream",
          "name": "stdout",
          "text": [
            "{1, 2, 3, 4}\n",
            "{2, 3}\n",
            "{1}\n",
            "{4}\n",
            "{1, 4}\n",
            "True\n",
            "False\n"
          ]
        }
      ]
    },
    {
      "cell_type": "code",
      "source": [
        "set1.add(5)\n",
        "print(set1)"
      ],
      "metadata": {
        "colab": {
          "base_uri": "https://localhost:8080/"
        },
        "id": "FnCTwwJrKR1o",
        "outputId": "7fe3fec1-c1ad-4f5c-8339-f8d49ba172ae"
      },
      "execution_count": null,
      "outputs": [
        {
          "output_type": "stream",
          "name": "stdout",
          "text": [
            "{1, 2, 3, 5}\n"
          ]
        }
      ]
    },
    {
      "cell_type": "code",
      "source": [
        "set1.remove(2)\n",
        "print(set1)"
      ],
      "metadata": {
        "colab": {
          "base_uri": "https://localhost:8080/"
        },
        "id": "EnxbM_LwKXjo",
        "outputId": "7390ec40-6038-454a-8e77-4788e4806f9f"
      },
      "execution_count": null,
      "outputs": [
        {
          "output_type": "stream",
          "name": "stdout",
          "text": [
            "{1, 3, 5}\n"
          ]
        }
      ]
    },
    {
      "cell_type": "code",
      "source": [
        "#Initialize a set with values:\n",
        "set_values = {1, 2, 3}\n",
        "\n",
        "#Initialize an empty set:\n",
        "set_empty = set()\n",
        "\n",
        "#Add multiple values to a set:\n",
        "set_empty.update([1, 2, 3])\n",
        "\n",
        "#Check if a set is a subset of another:\n",
        "set1 = {1, 2}\n",
        "set2 = {1, 2, 3}\n",
        "set1 < set2 # True\n",
        "set2 < set1 # False\n",
        "\n",
        "#Check if two sets have a non-empty intersection:\n",
        "set1 & set2 # {1, 2}\n",
        "set1.isdisjoint(set2) # False\n",
        "\n",
        "#Clear a set of all values:\n",
        "set1.clear()\n",
        "set1 # set()\n",
        "#Delete a set entirely:\n",
        "\n",
        "del set1"
      ],
      "metadata": {
        "id": "ll86_XEiJbpT"
      },
      "execution_count": null,
      "outputs": []
    },
    {
      "cell_type": "markdown",
      "source": [
        "# CLASS TASK - 3\n",
        "Please make a simple Set and do following exercises:<br>\n",
        "`set()` creates an empty set,<br>\n",
        "`y in my_set` checks if the set contains y,<br>\n",
        "`len(my_set) `gets the size of the set,<br>\n",
        "`my_set.add(y) `inserts y into the set if not already present,<br>\n",
        "`my_set.remove(y) `removes y from the set if present,<br>\n",
        "`my_set.clear()` clears the set,<br>\n",
        "`for k in my_set:` iterates over the set."
      ],
      "metadata": {
        "id": "NFappqQqM8q7"
      }
    },
    {
      "cell_type": "code",
      "source": [
        "#Code here\n",
        "#Your can add more cells if you think its necessary\n",
        "my_set = set()  # This creates an empty set"
      ],
      "metadata": {
        "id": "oGBroZPPM8DA"
      },
      "execution_count": null,
      "outputs": []
    },
    {
      "cell_type": "code",
      "source": [
        "my_set = {\"apple\", \"banana\", \"cherry\"}\n",
        "has_apple = \"apple\" in my_set\n",
        "print(has_apple)"
      ],
      "metadata": {
        "id": "tqFgmxDSH7aZ"
      },
      "execution_count": null,
      "outputs": []
    },
    {
      "cell_type": "code",
      "source": [
        "my_set = {\"apple\", \"banana\", \"cherry\"}\n",
        "size_of_set = len(my_set)\n",
        "print(size_of_set)"
      ],
      "metadata": {
        "id": "Hz-sN77iH-oh"
      },
      "execution_count": null,
      "outputs": []
    },
    {
      "cell_type": "code",
      "source": [
        "my_set = {\"apple\", \"banana\"}\n",
        "my_set.add(\"cherry\")\n",
        "print(my_set)"
      ],
      "metadata": {
        "id": "s1c2sVANIB4R"
      },
      "execution_count": null,
      "outputs": []
    },
    {
      "cell_type": "code",
      "source": [
        "my_set = {\"apple\", \"banana\", \"cherry\"}\n",
        "my_set.remove(\"banana\")\n",
        "print(my_set)"
      ],
      "metadata": {
        "id": "zdYdKx9yILcu"
      },
      "execution_count": null,
      "outputs": []
    },
    {
      "cell_type": "code",
      "source": [
        "my_set = {\"apple\", \"cherry\"}\n",
        "my_set.clear()\n",
        "print(my_set)"
      ],
      "metadata": {
        "id": "0CsIzx2OIPbl"
      },
      "execution_count": null,
      "outputs": []
    },
    {
      "cell_type": "code",
      "source": [
        "my_set = {\"apple\", \"banana\", \"cherry\"}\n",
        "for i in my_set:\n",
        "  print(i)  # This will print the elements in an arbitrary order"
      ],
      "metadata": {
        "colab": {
          "base_uri": "https://localhost:8080/"
        },
        "id": "_4QXAGfHIWeu",
        "outputId": "de730df3-a5f7-4a6b-9ad0-885a4331063d"
      },
      "execution_count": null,
      "outputs": [
        {
          "output_type": "stream",
          "name": "stdout",
          "text": [
            "apple\n",
            "banana\n",
            "cherry\n"
          ]
        }
      ]
    },
    {
      "cell_type": "markdown",
      "source": [
        "Write a Python function to compute and return the union of two sets. Then do the same for the intersection of two sets."
      ],
      "metadata": {
        "id": "Mj82IX_5OHIN"
      }
    },
    {
      "cell_type": "code",
      "source": [
        "def set_union(set1, set2) -> set:\n",
        "    \"\"\"\n",
        "    Computes the union of two sets.\n",
        "\n",
        "    Parameters:\n",
        "    set1 (set): The first set.\n",
        "    set2 (set): The second set.\n",
        "\n",
        "    Returns:\n",
        "    set: The union of set1 and set2.\n",
        "    \"\"\"\n",
        "    return set1.union(set2)\n",
        "\n",
        "\n",
        "def set_intersection(set1, set2) -> set:\n",
        "    \"\"\"\n",
        "    Computes the intersection of two sets.\n",
        "\n",
        "    Parameters:\n",
        "    set1 (set): The first set.\n",
        "    set2 (set): The second set.\n",
        "\n",
        "    Returns:\n",
        "    set: The intersection of set1 and set2.\n",
        "    \"\"\"\n",
        "    return set1.intersection(set2)"
      ],
      "metadata": {
        "id": "QdJpnuWyNXEM"
      },
      "execution_count": null,
      "outputs": []
    },
    {
      "cell_type": "code",
      "source": [
        "#idiot-proofing the code\n",
        "def set_union(set1, set2) -> set:\n",
        "    if isinstance(set1, set):\n",
        "        return set1.union(set2)\n",
        "    else:\n",
        "        return '\"WARNING: Inputs could not be converted to sets.'\n",
        "\n",
        "def set_intersection(set1, set2) -> set:\n",
        "    if isinstance(set1, set):\n",
        "        return set1.intersection(set2)\n",
        "    else:\n",
        "        return '\"WARNING: Inputs could not be converted to sets.'\n",
        "a = {1,2,3,4,5,6}\n",
        "b = {4,5,6,7,8,9}\n",
        "print(set_union(a, b))\n",
        "print(set_intersection(a, b))"
      ],
      "metadata": {
        "colab": {
          "base_uri": "https://localhost:8080/"
        },
        "id": "PySkgkSXMtF2",
        "outputId": "87095b0a-8f51-4f8b-d24e-38f40d0dcaf2"
      },
      "execution_count": null,
      "outputs": [
        {
          "output_type": "stream",
          "name": "stdout",
          "text": [
            "{1, 2, 3, 4, 5, 6, 7, 8, 9}\n",
            "{4, 5, 6}\n"
          ]
        }
      ]
    },
    {
      "cell_type": "markdown",
      "source": [
        "Use above methods and print something and try idiot-proofing your code"
      ],
      "metadata": {
        "id": "_8tBhPb-OTAM"
      }
    },
    {
      "cell_type": "code",
      "source": [
        "def union(set1, set2):\n",
        "  if not isinstance(set1, set) or not isinstance(set2, set):\n",
        "    raise TypeError(\"Arguments must be sets\")\n",
        "  return set1 | set2\n",
        "\n",
        "def intersection(set1, set2):\n",
        "  if not isinstance(set1, set) or not isinstance(set2, set):\n",
        "    raise TypeError(\"Arguments must be sets\")\n",
        "  return set1 & set2\n",
        "\n",
        "#Now if we pass in values that aren't sets, we'll get a helpful TypeError instead of confusing errors:"
      ],
      "metadata": {
        "id": "jpORtTB_OQUs"
      },
      "execution_count": null,
      "outputs": []
    },
    {
      "cell_type": "code",
      "source": [
        "print(union([1, 2, 3], 4)) # Raises TypeError"
      ],
      "metadata": {
        "id": "RYN07D2_Por0",
        "colab": {
          "base_uri": "https://localhost:8080/",
          "height": 263
        },
        "outputId": "519b8e9e-007f-4cd2-ece0-bac23e53c79d"
      },
      "execution_count": null,
      "outputs": [
        {
          "output_type": "error",
          "ename": "TypeError",
          "evalue": "Arguments must be sets",
          "traceback": [
            "\u001b[0;31m---------------------------------------------------------------------------\u001b[0m",
            "\u001b[0;31mTypeError\u001b[0m                                 Traceback (most recent call last)",
            "\u001b[0;32m<ipython-input-30-da05e0877a0b>\u001b[0m in \u001b[0;36m<cell line: 1>\u001b[0;34m()\u001b[0m\n\u001b[0;32m----> 1\u001b[0;31m \u001b[0mprint\u001b[0m\u001b[0;34m(\u001b[0m\u001b[0munion\u001b[0m\u001b[0;34m(\u001b[0m\u001b[0;34m[\u001b[0m\u001b[0;36m1\u001b[0m\u001b[0;34m,\u001b[0m \u001b[0;36m2\u001b[0m\u001b[0;34m,\u001b[0m \u001b[0;36m3\u001b[0m\u001b[0;34m]\u001b[0m\u001b[0;34m,\u001b[0m \u001b[0;36m4\u001b[0m\u001b[0;34m)\u001b[0m\u001b[0;34m)\u001b[0m \u001b[0;31m# Raises TypeError\u001b[0m\u001b[0;34m\u001b[0m\u001b[0;34m\u001b[0m\u001b[0m\n\u001b[0m",
            "\u001b[0;32m<ipython-input-28-4f5fd3f6a8d5>\u001b[0m in \u001b[0;36munion\u001b[0;34m(set1, set2)\u001b[0m\n\u001b[1;32m      1\u001b[0m \u001b[0;32mdef\u001b[0m \u001b[0munion\u001b[0m\u001b[0;34m(\u001b[0m\u001b[0mset1\u001b[0m\u001b[0;34m,\u001b[0m \u001b[0mset2\u001b[0m\u001b[0;34m)\u001b[0m\u001b[0;34m:\u001b[0m\u001b[0;34m\u001b[0m\u001b[0;34m\u001b[0m\u001b[0m\n\u001b[1;32m      2\u001b[0m   \u001b[0;32mif\u001b[0m \u001b[0;32mnot\u001b[0m \u001b[0misinstance\u001b[0m\u001b[0;34m(\u001b[0m\u001b[0mset1\u001b[0m\u001b[0;34m,\u001b[0m \u001b[0mset\u001b[0m\u001b[0;34m)\u001b[0m \u001b[0;32mor\u001b[0m \u001b[0;32mnot\u001b[0m \u001b[0misinstance\u001b[0m\u001b[0;34m(\u001b[0m\u001b[0mset2\u001b[0m\u001b[0;34m,\u001b[0m \u001b[0mset\u001b[0m\u001b[0;34m)\u001b[0m\u001b[0;34m:\u001b[0m\u001b[0;34m\u001b[0m\u001b[0;34m\u001b[0m\u001b[0m\n\u001b[0;32m----> 3\u001b[0;31m     \u001b[0;32mraise\u001b[0m \u001b[0mTypeError\u001b[0m\u001b[0;34m(\u001b[0m\u001b[0;34m\"Arguments must be sets\"\u001b[0m\u001b[0;34m)\u001b[0m\u001b[0;34m\u001b[0m\u001b[0;34m\u001b[0m\u001b[0m\n\u001b[0m\u001b[1;32m      4\u001b[0m   \u001b[0;32mreturn\u001b[0m \u001b[0mset1\u001b[0m \u001b[0;34m|\u001b[0m \u001b[0mset2\u001b[0m\u001b[0;34m\u001b[0m\u001b[0;34m\u001b[0m\u001b[0m\n\u001b[1;32m      5\u001b[0m \u001b[0;34m\u001b[0m\u001b[0m\n",
            "\u001b[0;31mTypeError\u001b[0m: Arguments must be sets"
          ]
        }
      ]
    },
    {
      "cell_type": "markdown",
      "source": [
        "# Discussion: Shopping List?\n",
        "Could be a `dictionary`, `list`, `tuple` or `set`. Suggest pros and cons of each with examples.\n",
        "\n",
        "A shopping list can be created by utilizing a dictionary or list data structures, each offering its own advantages and disadvantages.<br>\n",
        "\n",
        "list and dictionary are interchangable while creating a shopping list.<br>\n",
        "\n",
        "In this discussion, the advantages and disadvantages of utilizing both lists and dictionaries in the context of generating a shopping list will be examined. The code provided will focus solely on the implementation of the list data structure.\n",
        "\n",
        "#Nested list\n",
        "<b>Pros</b> </br>\n",
        "- Simple and straightforward. </br>\n",
        "- Easy to understand and implement.</br>\n",
        "\n",
        "<b>Cons</b> </br>\n",
        "- Limited in terms of organizing data.</br>\n",
        "- Each item is represented as a list, which may become cumbersome to manage if more attributes are added.</br>\n",
        "- Accessing attributes requires indexing, which can be error-prone and less intuitive.</br>\n",
        "\n",
        "#Nested dictionary\n",
        "<b>Pros</b> <br>\n",
        "- Each item is represented as a dictionary, providing a structured way to store and access item attributes.<br>\n",
        "- Easily add, modify, or remove attributes for each item without affecting others.<br>\n",
        "- Quick access to specific item attributes using key-value pairs.<br>\n",
        "\n",
        "<b>Cons</b>\n",
        "-  Dictionaries do not maintain order by default, which can be problematic if item order is important.\n",
        "- Handling nested dictionaries and ensuring consistency across items may require additional effort.\n",
        "- Dictionaries consume more memory compared to simpler data structures like lists due to storing keys alongside values.\n",
        "\n",
        "#Nested tuple\n",
        "<b>Pros</b>\n",
        "- Immutable, ordered, and can be used as keys in dictionaries.\n",
        "<b>Cons</b>\n",
        "- Fixed structure, so adding or modifying attributes requires creating new tuples.\n",
        "\n",
        "#Nested Sets\n",
        "<b>Pros</b>\n",
        "-  Ensures uniqueness of elements, fast membership testing.\n",
        "<b>Cons</b>\n",
        "-  Unordered, so not suitable if item order is important. Cannot have duplicate elements.\n"
      ],
      "metadata": {
        "id": "bm6rm7F6QtX8"
      }
    },
    {
      "cell_type": "code",
      "source": [
        "#Code/Text here\n",
        "#Your can add more cells if you think its necessary\n",
        "shopping_list_shirts = [['cropshirt', 1000, 5], ['Normal shirt', 500, 4.5], ['formal shirt', 1500, 3.5], ['fitting-shirt', 700, 2.1]]\n",
        "def sort_by_price(listt):\n",
        "    sort_price = sorted(listt, key = lambda x: x[1], reverse = True)\n",
        "    for i in sort_price:\n",
        "        print(i[0], i[1], i[2])\n",
        "\n",
        "def sort_by_rating(lis):\n",
        "    sort_rating = sorted(lis, key = lambda x: x[2], reverse = True)\n",
        "    for i in sort_rating:\n",
        "        print(i[0], i[1], i[2])\n",
        "\n",
        "print(\"Sorted list orderd in decending order of price\")\n",
        "sort_by_price(shopping_list_shirts)\n",
        "print('-'*20)\n",
        "print(\"Sorted list orderd in decending order of rating\")\n",
        "sort_by_rating(shopping_list_shirts)"
      ],
      "metadata": {
        "id": "9jm1JJfGQsuQ",
        "colab": {
          "base_uri": "https://localhost:8080/"
        },
        "outputId": "0fd4b5c3-29ad-4e93-c92f-f3a73672c697"
      },
      "execution_count": null,
      "outputs": [
        {
          "output_type": "stream",
          "name": "stdout",
          "text": [
            "Sorted list orderd in decending order of price\n",
            "formal shirt 1500 3.5\n",
            "cropshirt 1000 5\n",
            "fitting-shirt 700 2.1\n",
            "Normal shirt 500 4.5\n",
            "--------------------\n",
            "Sorted list orderd in decending order of rating\n",
            "cropshirt 1000 5\n",
            "Normal shirt 500 4.5\n",
            "formal shirt 1500 3.5\n",
            "fitting-shirt 700 2.1\n"
          ]
        }
      ]
    },
    {
      "cell_type": "markdown",
      "source": [
        "# Stacks\n",
        "There isn't a native stack or queue function in Python so to create these ADTs you need to use a suitable type. Using a `list` as a proxy write functions to `push`, `peek` and `pop` from a `stack`. <br>\n",
        "Hint: `Lst.pop(2)` pops the 3rd element from the list `Lst`."
      ],
      "metadata": {
        "id": "5J9Y1JoFRgv8"
      }
    },
    {
      "cell_type": "code",
      "source": [
        "# Write your code here:\n",
        "def push(Lst,x):\n",
        "    Lst.append(x)\n",
        "\n",
        "def peek(Lst):\n",
        "    return Lst[-1]\n",
        "\n",
        "def pop(Lst):\n",
        "    Lst.pop()"
      ],
      "metadata": {
        "id": "p-Ocv9VjQ8vB"
      },
      "execution_count": null,
      "outputs": []
    },
    {
      "cell_type": "markdown",
      "source": [
        "# Queues\n",
        "Now that you've set up stacks try and do the same for queues:"
      ],
      "metadata": {
        "id": "K32tzTR6SDe2"
      }
    },
    {
      "cell_type": "code",
      "source": [
        "# Write your code here:\n",
        "def enqueue(Lst,x):\n",
        "    Lst.append(x)\n",
        "\n",
        "def peek(Lst):\n",
        "    return Lst[0]\n",
        "\n",
        "def dequeue(Lst):\n",
        "    Lst.pop(0)"
      ],
      "metadata": {
        "id": "nLfu1RGySA5x"
      },
      "execution_count": null,
      "outputs": []
    },
    {
      "cell_type": "markdown",
      "source": [
        "# Priority Queue\n",
        "\n",
        "Try now to write a Priority Queue function using a suitable ADT"
      ],
      "metadata": {
        "id": "rvrbDsezXBOC"
      }
    },
    {
      "cell_type": "code",
      "source": [
        "queue = {}\n",
        "\n",
        "def add(item, priority):\n",
        "  queue[priority] = item\n",
        "\n",
        "def pop():\n",
        "  priority, item = sorted(queue.items(), key=lambda x: x[0])[-1]\n",
        "  del queue[priority]\n",
        "  return item"
      ],
      "metadata": {
        "id": "TpVxNkKLTpzR"
      },
      "execution_count": null,
      "outputs": []
    },
    {
      "cell_type": "code",
      "source": [
        "add(\"Medicine\", 3)\n",
        "add(\"Apple\", 2)\n",
        "add(\"Movie Disk\", 1)\n",
        "print(queue)"
      ],
      "metadata": {
        "colab": {
          "base_uri": "https://localhost:8080/"
        },
        "id": "bA8O1b4-T_l6",
        "outputId": "9a74078b-5b7b-42fe-fdfb-8ead74c145ab"
      },
      "execution_count": null,
      "outputs": [
        {
          "output_type": "stream",
          "name": "stdout",
          "text": [
            "{3: 'Medicine', 2: 'Apple', 1: 'Movie Disk'}\n"
          ]
        }
      ]
    },
    {
      "cell_type": "code",
      "source": [
        "pop()\n",
        "print(queue)"
      ],
      "metadata": {
        "colab": {
          "base_uri": "https://localhost:8080/"
        },
        "id": "osM1p6NJU1vf",
        "outputId": "8a53b3d4-950a-44f0-b3fa-093d72610988"
      },
      "execution_count": null,
      "outputs": [
        {
          "output_type": "stream",
          "name": "stdout",
          "text": [
            "{2: 'Apple', 1: 'Movie Disk'}\n"
          ]
        }
      ]
    },
    {
      "cell_type": "markdown",
      "source": [
        "# Do scratch implementation of union & intersection using sets"
      ],
      "metadata": {
        "id": "wFGVEoCtrHPg"
      }
    },
    {
      "cell_type": "code",
      "source": [
        "#Your code here\n",
        "def union(set1, set2):\n",
        "    return set1.union(set2)\n",
        "\n",
        "def intersection(set1, set2):\n",
        "    return set1.intersection(set2)\n",
        "\n",
        "# Example usage:\n",
        "set1 = {1, 2, 3, 4}\n",
        "set2 = {3, 4, 5, 6}\n",
        "\n",
        "union_set = union(set1, set2)\n",
        "intersection_set = intersection(set1, set2)\n",
        "\n",
        "print(union_set)\n",
        "print(intersection_set)"
      ],
      "metadata": {
        "id": "cE3g0JiWrFJk",
        "colab": {
          "base_uri": "https://localhost:8080/"
        },
        "outputId": "e716f3d1-9862-4609-da04-f74abb1e9a06"
      },
      "execution_count": null,
      "outputs": [
        {
          "output_type": "stream",
          "name": "stdout",
          "text": [
            "{1, 2, 3, 4, 5, 6}\n",
            "{3, 4}\n"
          ]
        }
      ]
    },
    {
      "cell_type": "markdown",
      "source": [
        "Explain how two stacks can be used to implement a queue with all relevant operations. Note this is a popular interview question.\n",
        "\n",
        "Hint: use one stack for ‘arrivals’ and the other for ‘departures’.\n"
      ],
      "metadata": {
        "id": "uFC92N5psi-l"
      }
    },
    {
      "cell_type": "code",
      "source": [
        "# Your code here\n",
        "left_stack = []\n",
        "right_stack = []\n",
        "\n",
        "def enqueue(item):\n",
        "  left_stack.append(item)\n",
        "\n",
        "def dequeue():\n",
        "  if not right_stack:\n",
        "    while left_stack:\n",
        "      right_stack.append(left_stack.pop())\n",
        "  return right_stack.pop()"
      ],
      "metadata": {
        "id": "JiSYsvA0snwH"
      },
      "execution_count": null,
      "outputs": []
    },
    {
      "cell_type": "code",
      "source": [
        "enqueue(5)\n",
        "enqueue(6)\n",
        "enqueue(7)\n",
        "print(left_stack)"
      ],
      "metadata": {
        "colab": {
          "base_uri": "https://localhost:8080/"
        },
        "id": "xmyHV5pbuJQl",
        "outputId": "dd17c357-8523-4635-daca-bc5c815687f0"
      },
      "execution_count": null,
      "outputs": [
        {
          "output_type": "stream",
          "name": "stdout",
          "text": [
            "[5, 6, 7]\n"
          ]
        }
      ]
    },
    {
      "cell_type": "code",
      "source": [
        "dequeue()"
      ],
      "metadata": {
        "colab": {
          "base_uri": "https://localhost:8080/"
        },
        "id": "Rwy1BWxouY4Q",
        "outputId": "d1a38134-ec99-43c7-ed4e-2a0289cce1e8"
      },
      "execution_count": null,
      "outputs": [
        {
          "output_type": "execute_result",
          "data": {
            "text/plain": [
              "5"
            ]
          },
          "metadata": {},
          "execution_count": 47
        }
      ]
    },
    {
      "cell_type": "code",
      "source": [
        "print(right_stack)"
      ],
      "metadata": {
        "colab": {
          "base_uri": "https://localhost:8080/"
        },
        "id": "qo35Hj7NudFr",
        "outputId": "ff12c758-fd59-42a9-8fae-1b613732a535"
      },
      "execution_count": null,
      "outputs": [
        {
          "output_type": "stream",
          "name": "stdout",
          "text": [
            "[7, 6]\n"
          ]
        }
      ]
    },
    {
      "cell_type": "markdown",
      "source": [
        "# Opeartors"
      ],
      "metadata": {
        "id": "x3iRCh4ZvtpS"
      }
    },
    {
      "cell_type": "code",
      "source": [
        "print(1 + 2) # 3\n",
        "print(8 - 3) # 5\n",
        "print(2 * 4) # 8\n",
        "print(10 / 2) # 5.0\n",
        "print(19 // 6) # 3\n",
        "print(10 % 2) # 0\n",
        "print(2 ** 3) # 8\n",
        "print(19 // 7) # 2\n",
        "print(19 % 6) # 1"
      ],
      "metadata": {
        "colab": {
          "base_uri": "https://localhost:8080/"
        },
        "id": "2aelg4nBvv7w",
        "outputId": "463011ee-3199-4dcc-c09b-8e1f04f30591"
      },
      "execution_count": null,
      "outputs": [
        {
          "output_type": "stream",
          "name": "stdout",
          "text": [
            "3\n",
            "5\n",
            "8\n",
            "5.0\n",
            "3\n",
            "0\n",
            "8\n",
            "2\n",
            "1\n"
          ]
        }
      ]
    },
    {
      "cell_type": "code",
      "source": [
        "print(bin(0b1010 & 0b1100)) # AND - Sets each bit to 1 if both bits are 1\n",
        "print(bin(0b1010 | 0b1100)) # OR - Sets each bit to 1 if one of two bits is 1\n",
        "print(bin(~0b11)) #( x = -x-1) [BITWISE-NOT]\n",
        "print(bin(0b1010 ^ 0b1100)) # XOR - Sets each bit to 1 if only one of two bits is 1\n",
        "\n",
        "print(bin(0b1010 << 2)) #BITWISE-LEFT \"Left shifting means adding zeros on the right and letting the leftmost bits fall off.\"\n",
        "print(bin(0b1010 >> 3)) #BITWISE-RIGHT \"Right shifting means adding copies of the leftmost bit on the left and letting the rightmost bits fall off.\""
      ],
      "metadata": {
        "colab": {
          "base_uri": "https://localhost:8080/"
        },
        "id": "L0QP_PwqwDVb",
        "outputId": "dcebdc3f-5398-409c-fece-6136d35a1fdc"
      },
      "execution_count": null,
      "outputs": [
        {
          "output_type": "stream",
          "name": "stdout",
          "text": [
            "0b1000\n",
            "0b1110\n",
            "-0b100\n",
            "0b110\n",
            "0b101000\n",
            "0b1\n"
          ]
        }
      ]
    },
    {
      "cell_type": "code",
      "source": [
        "# Bitwise AND example\n",
        "a = 0b1010\n",
        "b = 0b1100\n",
        "result = a & b\n",
        "print(bin(result))  # Output: 0b1000"
      ],
      "metadata": {
        "colab": {
          "base_uri": "https://localhost:8080/"
        },
        "id": "0OWJ9T4jxMKa",
        "outputId": "f5c683f6-4c56-42ac-d7d7-d136bd5ef0a8"
      },
      "execution_count": null,
      "outputs": [
        {
          "output_type": "stream",
          "name": "stdout",
          "text": [
            "0b1000\n"
          ]
        }
      ]
    },
    {
      "cell_type": "markdown",
      "source": [
        "# Play with bitwise operators..."
      ],
      "metadata": {
        "id": "ick9pOWZ7hNw"
      }
    },
    {
      "cell_type": "code",
      "source": [
        "#Your code here\n",
        "print(bin(a & b))\n",
        "print(bin(a | b))\n",
        "print(bin(~a))\n",
        "print(bin(a ^ b))\n",
        "\n",
        "print(bin(a << 2))\n",
        "print(bin(a >> 3))"
      ],
      "metadata": {
        "id": "1_3pmwr-7oRo",
        "colab": {
          "base_uri": "https://localhost:8080/"
        },
        "outputId": "aff0f7f8-00d6-45b0-9bfd-d2d32f018c3d"
      },
      "execution_count": null,
      "outputs": [
        {
          "output_type": "stream",
          "name": "stdout",
          "text": [
            "0b1000\n",
            "0b1110\n",
            "-0b1011\n",
            "0b110\n",
            "0b101000\n",
            "0b1\n"
          ]
        }
      ]
    },
    {
      "cell_type": "markdown",
      "source": [
        "# Shallow vs Deep Copy"
      ],
      "metadata": {
        "id": "PDqWZErvt-iS"
      }
    },
    {
      "cell_type": "code",
      "source": [
        "original_list = [1, 2, [3, 4]]\n",
        "new_list = original_list.copy()\n",
        "\n",
        "print(\"Original List: \", original_list)\n",
        "print(\"New List: \", new_list)\n",
        "\n",
        "# modify the original list\n",
        "original_list[2][0] = 5\n",
        "\n",
        "print(\"Modified Original List: \", original_list)\n",
        "print(\"Modified New List: \", new_list)"
      ],
      "metadata": {
        "colab": {
          "base_uri": "https://localhost:8080/"
        },
        "id": "Q4z9knG_s3KQ",
        "outputId": "12507684-31c4-42cc-974f-81f95e94820f"
      },
      "execution_count": null,
      "outputs": [
        {
          "output_type": "stream",
          "name": "stdout",
          "text": [
            "Original List:  [1, 2, [3, 4]]\n",
            "New List:  [1, 2, [3, 4]]\n",
            "Modified Original List:  [1, 2, [5, 4]]\n",
            "Modified New List:  [1, 2, [5, 4]]\n"
          ]
        }
      ]
    },
    {
      "cell_type": "markdown",
      "source": [
        "## Deep-Shallow Copy & Shallow Copy peculariaties."
      ],
      "metadata": {
        "id": "GhVrisDr5m1-"
      }
    },
    {
      "cell_type": "code",
      "source": [
        "# Explain with all examples - all cases\n",
        "l1 = [[10,20], 30, 40]\n",
        "l2 = l1[:]\n",
        "l2[0].append(100)\n",
        "print(l1)\n",
        "print(l2)"
      ],
      "metadata": {
        "id": "wTLGf10m5uWR",
        "colab": {
          "base_uri": "https://localhost:8080/"
        },
        "outputId": "f7e4bde8-d69c-412a-deba-fe47eaca92ab"
      },
      "execution_count": null,
      "outputs": [
        {
          "output_type": "stream",
          "name": "stdout",
          "text": [
            "[[10, 20, 100], 30, 40]\n",
            "[[10, 20, 100], 30, 40]\n"
          ]
        }
      ]
    },
    {
      "cell_type": "code",
      "source": [
        "l1 = [10,20,30]\n",
        "l2 = l1[:]\n",
        "l2.append(40)\n",
        "print(l1)\n",
        "print(l2)"
      ],
      "metadata": {
        "colab": {
          "base_uri": "https://localhost:8080/"
        },
        "id": "TovFiuD_VY8I",
        "outputId": "2db3eba8-c177-4ccc-9133-caf3e2bd2e36"
      },
      "execution_count": null,
      "outputs": [
        {
          "output_type": "stream",
          "name": "stdout",
          "text": [
            "[10, 20, 30]\n",
            "[10, 20, 30, 40]\n"
          ]
        }
      ]
    },
    {
      "cell_type": "markdown",
      "source": [
        "##Geometric Data\n",
        "Geometric data in data structures refers to any data that represents or describes a geometric object, such as points, lines, curves, polygons, and higher-dimensional shapes. Geometric data structures are used to efficiently store, query, and manipulate geometric data, which is common in many areas of computer science, including computer graphics, computer vision, robotics, and computational geometry."
      ],
      "metadata": {
        "id": "XAKW1C403-WQ"
      }
    },
    {
      "cell_type": "code",
      "source": [
        "class Point:\n",
        "    def __init__(self, x, y):\n",
        "        self.x = x\n",
        "        self.y = y\n",
        "    def __repr__(self):\n",
        "        fmt = 'Point({!r}, {!r})'\n",
        "        return fmt.format(self.x, self.y)"
      ],
      "metadata": {
        "id": "q-NO44TT355a"
      },
      "execution_count": null,
      "outputs": []
    },
    {
      "cell_type": "code",
      "source": [
        "p1 = Point(3,2)\n",
        "\n",
        "print(p1)\n",
        "\n",
        "print(p1.x)"
      ],
      "metadata": {
        "id": "GmIODOK44GbC",
        "colab": {
          "base_uri": "https://localhost:8080/"
        },
        "outputId": "a341d8c4-c6d0-4362-e086-e112c17ca632"
      },
      "execution_count": null,
      "outputs": [
        {
          "output_type": "stream",
          "name": "stdout",
          "text": [
            "Point(3, 2)\n",
            "3\n"
          ]
        }
      ]
    },
    {
      "cell_type": "code",
      "source": [
        "# QN 1) Create a point p2 at x=5,y=4.\n",
        "\n",
        "p2 = Point(5, 4)\n",
        "print(p2)\n",
        "print(p2.x)"
      ],
      "metadata": {
        "id": "OsVWGVOD49hJ",
        "colab": {
          "base_uri": "https://localhost:8080/"
        },
        "outputId": "6eb70c4c-38f2-4956-8384-2211596023cb"
      },
      "execution_count": null,
      "outputs": [
        {
          "output_type": "stream",
          "name": "stdout",
          "text": [
            "Point(5, 4)\n",
            "5\n"
          ]
        }
      ]
    },
    {
      "cell_type": "markdown",
      "source": [
        "The class for a Vector is shown below which has addition and scale operations. Add in a function to perform Vector subtraction."
      ],
      "metadata": {
        "id": "zTGOGdEw4ONc"
      }
    },
    {
      "cell_type": "code",
      "source": [
        "class Vector:\n",
        "    def __init__(self, x, y):\n",
        "        self.x = x\n",
        "        self.y = y\n",
        "    def __repr__(self):\n",
        "        fmt = 'Vector({!r}, {!r})'\n",
        "        return fmt.format(self.x, self.y)\n",
        "\n",
        "    def add(self, other):\n",
        "        return Vector(self.x + other.x, self.y + other.y)\n",
        "\n",
        "    def scale(self, scalar):\n",
        "        return Vector(scalar * self.x, scalar * self.y)\n",
        "\n",
        "    #def subtract\n",
        "    def subtract(self, other):\n",
        "        return Vector(self.x - other.x, self.y - other.y)"
      ],
      "metadata": {
        "id": "3BxuZC_S36CR"
      },
      "execution_count": null,
      "outputs": []
    },
    {
      "cell_type": "code",
      "source": [
        "# QN 2) Write code to add and subtract p1 and p2 and then scale p1 by 3.\n",
        "# Create two points\n",
        "p1 = Point(2, 3)\n",
        "p2 = Point(4, 5)\n",
        "\n",
        "# Convert points to vectors\n",
        "v1 = Vector(p1.x, p1.y)\n",
        "v2 = Vector(p2.x, p2.y)\n",
        "\n",
        "# Add\n",
        "added_vector = v1.add(v2)\n",
        "print(added_vector)\n",
        "\n",
        "# Subtract\n",
        "subtracted_vector = v1.subtract(v2)\n",
        "print(subtracted_vector)\n",
        "\n",
        "# Scale\n",
        "scaled_vector = v1.scale(3)\n",
        "print(scaled_vector)"
      ],
      "metadata": {
        "id": "jcBo6QqL5D9q",
        "colab": {
          "base_uri": "https://localhost:8080/"
        },
        "outputId": "b7bd6d18-5108-4679-e298-015d73d68aad"
      },
      "execution_count": null,
      "outputs": [
        {
          "output_type": "stream",
          "name": "stdout",
          "text": [
            "Vector(6, 8)\n",
            "Vector(-2, -2)\n",
            "Vector(6, 9)\n"
          ]
        }
      ]
    },
    {
      "cell_type": "markdown",
      "source": [
        "The code to create the Rectangle class is below, but it requires an additional function to see if a point is contained within the rectangle:"
      ],
      "metadata": {
        "id": "YNpfsc6q4UGA"
      }
    },
    {
      "cell_type": "code",
      "source": [
        "class Rectangle:\n",
        "    def __init__(self, p1, p2):\n",
        "        self.p1 = p1\n",
        "        self.p2 = p2\n",
        "    def __repr__(self):\n",
        "        fmt = 'Rectangle({!r}, {!r})'\n",
        "        return fmt.format(self.p1, self.p2)\n",
        "\n",
        "    def contains(self, p):\n",
        "        min_x = min(self.p1.x, self. p2.x)\n",
        "        max_x = max(self.p1.x, self.p2.x)\n",
        "        min_y = min(self.p1.y, self.p2.y)\n",
        "        max_y = max(self.p1.y, self.p2.y)\n",
        "\n",
        "        return min_x <= p.x <= max_x and min_y <= p.y <= max_y"
      ],
      "metadata": {
        "id": "HnTxIvZN36FS"
      },
      "execution_count": null,
      "outputs": []
    },
    {
      "cell_type": "markdown",
      "source": [
        "This code creates a rectangle R and then shows that the point (4,3) is within the boundary of the rectangle. Create a point that is outside of the rectangle.\n",
        "QN3) Solve it."
      ],
      "metadata": {
        "id": "iaezF-0c4gmz"
      }
    },
    {
      "cell_type": "code",
      "source": [
        "# Create a rectangle\n",
        "R = Rectangle(Point(1, 1), Point(5, 5))\n",
        "\n",
        "# Create a point outside of the rectangle\n",
        "point = Point(4, 3)\n",
        "\n",
        "# Check if the point is within the boundary of the rectangle\n",
        "print(R.contains(point))"
      ],
      "metadata": {
        "colab": {
          "base_uri": "https://localhost:8080/"
        },
        "id": "t7m5bPWEt2lp",
        "outputId": "02b8f33e-a5fe-447f-9cd0-af17189601bc"
      },
      "execution_count": null,
      "outputs": [
        {
          "output_type": "stream",
          "name": "stdout",
          "text": [
            "True\n"
          ]
        }
      ]
    },
    {
      "cell_type": "code",
      "source": [
        "# Creating and checking with circles\n",
        "class Circle:\n",
        "    def __init__(self,c,r):\n",
        "        self.c = c\n",
        "        self.r = r\n",
        "    def __repr__(self):\n",
        "        fmt = 'Circle(centre: {!r}, radius: {!r})'\n",
        "        return fmt.format(self.c, self.r)\n",
        "    def contains(self,p1):\n",
        "        return (((Vector.subtract(self.c,p1).x**2 + Vector.subtract(self.c,p1).y**2))**(0.5)<=self.r)"
      ],
      "metadata": {
        "id": "QDuLabh14X-z"
      },
      "execution_count": null,
      "outputs": []
    },
    {
      "cell_type": "markdown",
      "source": [
        "QN4) Create a circle using the variable C with centre at (1,2) and radius 3. Then create 5 different points, p1-p5 where 2 are within the circle and 3 are outside the circle."
      ],
      "metadata": {
        "id": "rDl9yMok4okM"
      }
    },
    {
      "cell_type": "code",
      "source": [
        "# Check whether each point is inside or outside the circle\n",
        "C = Vector(1, 2)\n",
        "circle = Circle(C, 3)\n",
        "\n",
        "# Define the points\n",
        "p1 = Vector(2, 3)  # Inside the circle\n",
        "p2 = Vector(0, 0)  # Inside the circle\n",
        "p3 = Vector(5, 5)  # Outside the circle\n",
        "p4 = Vector(1, 5)  # Outside the circle\n",
        "p5 = Vector(6, 2)  # Outside the circle\n",
        "\n",
        "# Check if the points are within the circle\n",
        "points = [p1, p2, p3, p4, p5]\n",
        "for i, p in enumerate(points, start=1):\n",
        "    if circle.contains(p):\n",
        "        print(f\"Point p{i} {p} is inside or on the circle.\")\n",
        "    else:\n",
        "        print(f\"Point p{i} {p} is outside the circle.\")"
      ],
      "metadata": {
        "id": "87Q0rCgX4mtt",
        "colab": {
          "base_uri": "https://localhost:8080/"
        },
        "outputId": "b68ce938-f46d-4b0f-c6c8-298c9eacf0bc"
      },
      "execution_count": null,
      "outputs": [
        {
          "output_type": "stream",
          "name": "stdout",
          "text": [
            "Point p1 Vector(2, 3) is inside or on the circle.\n",
            "Point p2 Vector(0, 0) is inside or on the circle.\n",
            "Point p3 Vector(5, 5) is outside the circle.\n",
            "Point p4 Vector(1, 5) is inside or on the circle.\n",
            "Point p5 Vector(6, 2) is outside the circle.\n"
          ]
        }
      ]
    },
    {
      "cell_type": "markdown",
      "source": [
        "Next let's look at a general Polygon and contains function. Don't worry about how the code works, it relies on Numpy imported as np and uses maths to solve the problem, but see that the points of the edges from the Polygon are listed in the array p with a new point listed in r tested against it."
      ],
      "metadata": {
        "id": "OcbCdiAa4wg8"
      }
    },
    {
      "cell_type": "code",
      "source": [
        "import numpy as np\n",
        "\n",
        "def contains(P,R):\n",
        "\n",
        "    intercepts = 0\n",
        "\n",
        "    r_origin = R\n",
        "    r_end = np.array([np.max(P[:,0])+30,np.max(P[:,1])+30])\n",
        "    r_direction = r_end - r_origin\n",
        "\n",
        "\n",
        "    for i in range(len(P)):\n",
        "        u_origin = P[i,:]\n",
        "        u_direction = P[(i+1)%len(P),:] - u_origin\n",
        "        Z = np.array([u_direction,-r_direction])\n",
        "        intercept_len = np.linalg.pinv(Z.T).dot(r_origin - u_origin)\n",
        "        if (((intercept_len[0]>0) & (intercept_len[0]<1)) and ((intercept_len[1]>0) & (intercept_len[1]<1))) == 1:\n",
        "            intercepts += 1\n",
        "\n",
        "    if intercepts%2 == 1:\n",
        "        print('r is inside polygon p')\n",
        "    else:\n",
        "        print('r is outside polygon p')\n",
        "\n",
        "p = np.array(([80,150],[100,40],[140,170],[250,60],[320,150],[250,130],[110,250]))\n",
        "r = np.array([300,200])\n",
        "contains(p,r)"
      ],
      "metadata": {
        "id": "kNmenOWP4tJe",
        "colab": {
          "base_uri": "https://localhost:8080/"
        },
        "outputId": "ece54ea8-a7f6-43fa-b100-5c00e59260dd"
      },
      "execution_count": null,
      "outputs": [
        {
          "output_type": "stream",
          "name": "stdout",
          "text": [
            "r is outside polygon p\n"
          ]
        }
      ]
    },
    {
      "cell_type": "code",
      "source": [
        "import matplotlib.pyplot as plt\n",
        "\n",
        "plt.plot([p[i % 7][0] for i in range(8)], [p[i % 7][1] for i in range(8)], 'xb-');\n",
        "plt.plot(r[0],r[1],'r*')\n",
        "plt.show()"
      ],
      "metadata": {
        "id": "Yug_G5Lk4tMC"
      },
      "execution_count": null,
      "outputs": []
    },
    {
      "cell_type": "markdown",
      "source": [
        "# THE END"
      ],
      "metadata": {
        "id": "s6iQpnK88ejl"
      }
    }
  ]
}